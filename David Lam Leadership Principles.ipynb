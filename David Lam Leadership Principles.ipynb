{
 "cells": [
  {
   "cell_type": "markdown",
   "metadata": {},
   "source": [
    "# David Lam's Principles of Leadership and Process for building High Performance Teams."
   ]
  },
  {
   "cell_type": "markdown",
   "metadata": {},
   "source": [
    "## Contents <a id='Contents'></a>\n",
    "\n",
    "* [1. Extreme Ownership](#1_extreme_ownership)\n",
    "    * Part I: Winning the War Within\n",
    "        * [1.1 Chapter 1: Extreme Ownership](#1.1_extreme_ownership)\n",
    "        * [1.2 No Bad Teams, Only Bad Leaders](#1.2_no_bad_teams)\n",
    "        * [1.3 Believe](#1.3_believe)\n",
    "        * [1.4 Chapter 4: Check the Ego](#1.4_check_ego)\n",
    "        \n",
    "    * Part II: Laws of Combat\n",
    "        * [1.5 Chapter 5: Cover and Move](#1.5_cover_move)\n",
    "        * [1.6 Chapter 6: Simple](#1.6_simple)\n",
    "        * [1.7 Chapter 7: Prioritize and Execute ](#1.7_prioritize_execute)\n",
    "        * [1.8 Chapter 8: Decentralized Command](#1.8_decentralized_command)\n",
    "        \n",
    "    * Part III: Sustaining Victory\n",
    "        * [1.9 Chapter 9: Plan](#1.9_plan)\n",
    "        * [1.10 Chapter 10: Leading Up and Down the Chain](#1.10_leading_up_and_down_the_chain)\n",
    "        * [1.11 Chapter 11: Decisiveness amid Uncertainty](#1.11_decisiveness_amid_uncertainty)\n",
    "        * [1.12 Chapter 12: Discipline Equals Freedome - The Dichotomy of Leadership](#1.12_discipline_equals_freedom)\n",
    "\n",
    "* [2. The Dichotomy of Leadership: Balancing the Challenges of Extreme Ownership to Lead and Win](#2_dichotomy_of_leadership)\n",
    "    * Part I: Balance People\n",
    "        * [2.1 Chapter 1: The Ultimate Dichotomy](#2.1_ultimate_dichotomy)\n",
    "        * [2.2 Chapter 2: Own It All, but Empower Others](#2.3_own_empower)\n",
    "        * [2.3 Chapter 3: Resolute, but Not Overbearing](#2.3_resolute_not_overbearing)\n",
    "        * [2.4 Chapter 4: When to Mentor, When to Fire](#2.4_mentor_fire)\n",
    "    \n",
    "    * Part II: Balancing the Mission\n",
    "        * [2.5 Chapter 5: Train Hard, but Train Smart](#2.5_train_hard_smart)\n",
    "        * [2.6 Chapter 6: Aggressive, Not Reckless](#2.6_aggressive_not_reckless)\n",
    "        * [2.7 Chapter 7: Disciplined, Not Rigid](#2.7_disciplined_not_rigid)\n",
    "        * [2.8 Chapter 8: Hold People Accountable, but Don't Hold Their Hands](#2.8_accountable)\n",
    "       \n",
    "    * Part III: Balancing Yourself\n",
    "        * [2.9 Chapter 9: A Leader and a Follower](#2.9_leader_follower)\n",
    "        * [2.10 Chapter 10: Plan, but Don't Overplan](#2.10_plan_dont_overplan)\n",
    "        * [2.11 Chapter 11: Humble, Not Passive](#2.11_humble_not_passive)\n",
    "        * [2.12 Chapter 12: Focused, but Detached](#2.12_focused_but_detached)\n",
    "        \n",
    "* [3. David Lam's Leadership Principles and Blueprint for Building High Performance Teams](#3_leadership_hpt)\n",
    "    * [3.1 David Lam's Leadership Principles](#3.1_leadership_principles)\n",
    "        * [3.1.1 Part I: Leadership Mindset](#3.1.1_leadership_mindset)\n",
    "            * [3.1.1.1 Extreme Ownership](#3.1.1.1_extreme_ownership)\n",
    "            * [3.1.1.2 No Bad Teams, Only Bad Leaders](#3.1.1.2_no_bad_teams)\n",
    "            * [3.1.1.3 Believe](#3.1.1.3_believe)\n",
    "            * [3.1.1.4 Check the Ego](#3.1.1.4_check_ego)\n",
    "        * [3.1.2 Part II: Operating Principles](#3.1.2_operating_principles)\n",
    "            * [3.1.2.1 Cover and Move](#3.1.2.1_cover_move)\n",
    "            * [3.1.2.2 Simple](#3.1.2.2_simple)\n",
    "            * [3.1.2.3 Prioritize and Execute ](#3.1.2.3_prioritize_execute)\n",
    "            * [3.1.2.4 Decentralized Command](#3.1.2.4_decentralized_command)\n",
    "        * [3.1.3 Part III: Leadership Requirements](#3.1.3_leadership_requirements)\n",
    "            * [3.1.3.1 Plan](#3.1.3.1_plan)\n",
    "            * [3.1.3.2 Leading Up and Down the Chain](#3.1.3.2_leading_up_and_down_the_chain)\n",
    "            * [3.1.3.3 Decisiveness amid Uncertainty](#3.1.3.3_decisiveness_amid_uncertainty)\n",
    "            * [3.1.3.4 Discipline Equals Freedome - The Dichotomy of Leadership](#3.1.3.4_discipline_equals_freedom)\n",
    "    * [3.2 Blueprint for Building High Performance Teams](#3.2_blueprint)\n",
    "        * [3.2.1 It Starts with Leadership](#3.2.1_leadership)\n",
    "        * [3.2.2 Building the Team](#3.2.2_building_team)\n",
    "        * [3.2.3 Benefits of the Culture](#3.2.3_benefits_culture)\n",
    "        * [3.2.4 Let's Talk](#3.2.4_lets_talk)\n",
    "        "
   ]
  },
  {
   "cell_type": "markdown",
   "metadata": {},
   "source": [
    "##  1. Extreme Ownership<a id='1_extreme_ownership'></a>\n",
    "\n",
    "The content in the Extreme Ownership Section was taken from the book: **Extrememe Ownership: How U.S. Navy SEALS Lead and Win by Jocko Willink and Leif Babin**"
   ]
  },
  {
   "cell_type": "markdown",
   "metadata": {},
   "source": [
    "## Part I: Winning the War Within\n",
    "\n",
    "This is the mindset and principles that we want to instill in every member of the team. Those that exhibit these principles to the highest degree are those who should be entrusted with leadership positions and responsibilities. \n",
    "\n",
    "When those in leadership positions exemplify these principles and lead by example, the principles are passed to all team members thereby creating the culture necessary for high performance teams."
   ]
  },
  {
   "cell_type": "markdown",
   "metadata": {},
   "source": [
    "### 1.1 Chapter 1: Extreme Ownership <a id=1.1_extreme_ownership></a> "
   ]
  },
  {
   "cell_type": "markdown",
   "metadata": {},
   "source": [
    "* On any team, in any organization, all responsibility for success and failure rests with the leader. *The leader must own everything in his or her world*. There is no one else to blame. The leader must acknowledge mistakes and admit failures, take ownership of them, and develop a plan to win.\n",
    "\n",
    "\n",
    "* The best leaders don't just take responsibility for their job, they take Extreme Ownership of everything that ipacts their mission. This fundamental core concept enables leaders to lead high-performing teams in extraordinary cirumstances and win.\n",
    "\n",
    "\n",
    "* When subordinates aren't doing what they should, leaders that exercise Extreme Ownership cannot blame subordintes. They must first look inthe mirror at themselves. The leader bears full responsibility for explaining the strategic mission, developing tactics, and securing the training and resources to enable the team to properly and successfully execute.\n",
    "\n",
    "\n",
    "* If an individual on the team is not performing at the level required for the team to succeed, the leader must train and mentor that underperformer. If the underperformer continually fails to meet standards, then a leader who exercises Extreme Ownership must be loyal to the team, organization and mission above any individual. If underperformers cannot improve, the leader must make the tough call to terminate them and hire others who can get the job done. This is all on the leader.\n",
    "\n",
    "\n",
    "* Extreme Ownership requires leaders to look at an organization's problems. through the objective lens of reality, without emotional attachments to agendas or plans. It mandates that a leader set ego aside, accept responsibility for failures, attack weaknesses, and consistently work to build a better and more effective team.\n",
    "\n",
    "\n",
    "* Leaders do not take credit for the team's successse but bestows that honor upon his subordinate leaders and team members. When a leader sets such an example and expects this from junior leaders within the team, the mindset develops into the team's culture at every level. Junior leaders take charge of their smaller teams and their piece of the mission. Efficciency and effectiveness increase exponentially and a high-performance, winning team is the result."
   ]
  },
  {
   "cell_type": "markdown",
   "metadata": {},
   "source": [
    "### 1.2 Chapter 2: No Bad Teams, Only Bad Leaders <a id=1.2_no_bad_teams></a> "
   ]
  },
  {
   "cell_type": "markdown",
   "metadata": {},
   "source": [
    "* No Bad Teams, Only Bad Leaders is an essential mind-set to building a high-performance, winning team.\n",
    "\n",
    "\n",
    "* When leaders who epitomize Extreme Ownership drive their teams to achieve a higher standard of performance, they must recognize that when it comes to standards, as a leader, *it's not what you preach, it's what you tolerate.*\n",
    "\n",
    "\n",
    "* When setting expectations, o matter what has been said or written, if subtandard performance is accepted and no one is held accountable- if there are no consequences - that poor performance becomes the new standard. Therefore, leaders must enforce standards and ensure that tasks are repeated until the higher expected standard is achieved.\n",
    "\n",
    "\n",
    "* The leader must pull the different elements ithin the team together to support one another, with al focused exclusively on how to best accomplish the mission. Teams need a forcing function to get the different members working together to accomplish the mission and that is what leadership is all about.\n",
    "\n",
    "\n",
    "* Once a culture of Extreme Ownership is built into the team at every level, the entire team performs well, and performance continues to improve, even when a strong leader is temporarily removed from the team.\n",
    "\n",
    "\n",
    "* Leaders should never be satisfied. They must always strive to improve, and they must build that mind-set into the team. They must face the facts through a realistic, brutally honest assessment of themselves and t heir team's performance. Identifying weaknesses, good leaers seek to strengthen them and come up with a plan to overcome challenges.\n",
    "\n",
    "\n",
    "* The best teams anywhere are constantly looking to improve, add capability, and push the standards higher. It starts with the individual and spreads to each of the team members until this ecomes the culture, the new standard.\n",
    "\n",
    "\n",
    "* The recognition that there are no bad teams only bad leaders facilitates Extreme Ownership and enables leaders to build high-performance teams taht dominate."
   ]
  },
  {
   "cell_type": "markdown",
   "metadata": {},
   "source": [
    "### 1.3 Chapter 3: Believe <a id=1.3_believe></a> "
   ]
  },
  {
   "cell_type": "markdown",
   "metadata": {},
   "source": [
    "* In order to convince and inspire others to follow and accomplish a mission, a leader must be a *true believer* in the mission. If a leader does not believe, he or she will not take the risks required to overcome the inevitable challenges necessary to win.\n",
    "\n",
    "\n",
    "* Leaders must always operate with the understanding that they are part of something greater than themselves and their own personal interests. They must impart this understanding to their teams. Far more important than training or equipment, a resolute belief in the mission is critical for any team or organization to win and achieve big results.\n",
    "\n",
    "\n",
    "* Every leader must be able to detach from the immediate tactical mission and understand how it fits into strategic goals. When leaders receive an order that they question and do not understand, they must ask the question: why?\n",
    "\n",
    "\n",
    "* In any organization, goals must always be in alignment. If goals ren't aligned at some level, this isue must be addressed and rectified.\n",
    "\n",
    "\n",
    "* The laeder must explain not just what to do but why. it is the responsibility of the subordinate leader to reach out and ask if they do not understand. Only when leaders at all levels understand and believe in the mission can they pass that understanding and belief to their teams so. that they can persevere through challenges, execute and win."
   ]
  },
  {
   "cell_type": "markdown",
   "metadata": {},
   "source": [
    "### 1.4 Chapter 4: Check the Ego <a id=1.4_check_ego></a> "
   ]
  },
  {
   "cell_type": "markdown",
   "metadata": {},
   "source": [
    "* Ego clouds and disrupts everything: the planning process, the ability to take good advice, and the ability to accept constructive criticism. It can even stifle someone's sense of self-preservation. Often, the most difficult ego to deal with is *your own*.\n",
    "\n",
    "\n",
    "* When personal agendas become more important than the team and the overarching mission's success, performance suffers and failure ensues. Many of the disruptive issues that arise within any team can be attributed directly to a problem with ego.\n",
    "\n",
    "\n",
    "* Admitting mistakes, taking ownership, and developing a plan to overcome challenges are integral to any successful team. Ego can prevent a leader from conducting an honest, realistic assessment of his or her own performance and the performance of the team."
   ]
  },
  {
   "cell_type": "markdown",
   "metadata": {},
   "source": [
    "## Part II: Laws of Combat\n",
    "\n",
    "In addition to the leadership Mindset and Leadership Principles, leaders must enable their teams to operate and execute at the level of a high performance team.\n",
    "\n",
    "This is accomplished by getting their teams to embrace the principles Cover and Move, Simple, Prioritize and Execute, and Decentralized Command. A team that embodies these principles will operate as a high performance team."
   ]
  },
  {
   "cell_type": "markdown",
   "metadata": {},
   "source": [
    "### 1.5 Chapter 5: Cover and Move <a id=1.5_cover_move></a> "
   ]
  },
  {
   "cell_type": "markdown",
   "metadata": {},
   "source": [
    "* Cover and Move is the most fundamental tactic and simply means teamwork. All elements within the greater team are crucial and must work together to accomplish the mission, mutually supporting one another for that singular purpose. Departments and groups within the team must break down silos, depend on each other and understand who depends on them. If they forsake this principle and operate independetly or work against each other, the results can be catastrophic to the overall team's performance.\n",
    "\n",
    "\n",
    "* Within any team, there are divisions that arise. This creates friction taht inhibits the overall team's performance. It falls on leaders to continually keep perspective on the strategic mission and remind the team that they are part of the greater team and the strategic mission is paramount.\n",
    "\n",
    "\n",
    "* Each member of the team is critical to success, though the main effort and supporting efforts must be clearly identified. If the overall team fails, everyone fails, even if a specific member or an element within the team did their job successfully. \n",
    "\n",
    "\n",
    "* Pointing fingers and placing blame on others contribtes to further dissension beetween teams and individuals. Teams must instead find a way to work together, communicate with each other and mutually support one another. The focus must always be on how to best accomplish the mission.\n",
    "\n",
    "\n",
    "* Team members, departments, and supporting assets must always Cover and Move - help each other, work *together*, and support each other to win."
   ]
  },
  {
   "cell_type": "markdown",
   "metadata": {},
   "source": [
    "### 1.6 Chapter 6: Simple <a id=1.6_simple></a> "
   ]
  },
  {
   "cell_type": "markdown",
   "metadata": {},
   "source": [
    "* Simplifying plans as much as possible is crucial to success. When plans and orders are too complicated, people may not understand them. When things inevitably go wrong, complexity compounds issues that can spiral out of control into total disaster.\n",
    "\n",
    "\n",
    "* Plans must be communicated in a manner that is simple, clear and concise so everyone that is part of the mission must know and understand his or her role in the mission, and what to do in the event of likely contingencies.\n",
    "\n",
    "\n",
    "* As a leader, if the team doesn't get it, you have not kept things simple and you have failed. You must breif to ensure the lowest common denominator on the team understands.\n",
    "\n",
    "\n",
    "* It is critical that the operating relationship facilitae the ability of the frontline workers to ask questions that clarify when they do not understand the mission or key tasks to be performed. Leaders must encourage this communication and take the time to explain so that every member of the team understands.\n",
    "\n",
    "\n",
    "* it is critical to keep plans and communication simple. Following this rule is crucial to the success of any team."
   ]
  },
  {
   "cell_type": "markdown",
   "metadata": {},
   "source": [
    "### 1.7 Chapter 7: Prioritize and Execute <a id=1.7_prioritize_execute></a> "
   ]
  },
  {
   "cell_type": "markdown",
   "metadata": {},
   "source": [
    "* While working, countless problems compound in a snowball effect, every challenge complex in its own right, each demanding attention. A leader must remain calm and make the best decisions possible. To do this, we utilize the concept of Prioritize and Execute. We verbalize this principle with this direction: 'Relax, look around, make a call\"\n",
    "\n",
    "\n",
    "* When overwhelmed with the number of problems or tasks that need to be completed, fall back on the principle of Prioritize and Execute or risk failing at all tasks.\n",
    "\n",
    "\n",
    "* A particularly effective means to help Prioritize and Execute under pressue is to stay at least a step or two ahead of real-time problems. Through careful contingency planning, a leader can anticipate likely challenges that could arise during execution and map out an effective response to those challenges before they happen. \n",
    "\n",
    "\n",
    "* Staying ahead of the curve prevents a leader from being overwhelmed when pressue is applied and enables greater decisiveness. If the team has been briefed and understands what actions to take through such likely contingencies, the team can then rapidly execute when those problems arise, even without specific direction from leaders.\n",
    "\n",
    "\n",
    "* When confronted with the enormity of operational plans, it becomes easy to get lost in the details, to become sidetracked or lose focus on the bigger effort. It is crucial for leaders to step back and maintain the strategic picture. This is essential to help correctly prioritize for the team. With this perspective, it becomes far easier to determine the highest priority effort.\n",
    "\n",
    "\n",
    "* Priorities can rapidly change and shift. When this happens, communication of that shift to the rest of the team, both up and down the chain of command is critical. The team must maintain the ability to quickly reprioritize efforts and rapidly adpapt to a constantly changing situation.\n",
    "\n",
    "\n",
    "* To implement Prioritize and Execute in any business, team, or organization, a leader must: \n",
    "    * evaluate the highest priority problem. \n",
    "    * lay out in simple, clear, and concise terms the highest priority effort for your team. \n",
    "    * develop and determine a solution, seek input from key leaders and from the team where possible. \n",
    "    * direct the execution of that solution, focusing all efforts and resources toward this priority task. \n",
    "    * move on to the next highest priority problem. Repeat. \n",
    "    * when priorities shift within the team, pass situational awareness both up and down the chain. \n",
    "    * don’t let the focus on one priority cause target fixation. Maintain the ability to see other problems    developing and rapidly shift as needed."
   ]
  },
  {
   "cell_type": "markdown",
   "metadata": {},
   "source": [
    "### 1.8 Chapter 8: Decentralized Command <a id=1.8_decentralized_command></a> "
   ]
  },
  {
   "cell_type": "markdown",
   "metadata": {},
   "source": [
    "* Human beings are generally not capable of managing more than 6 to 10 people, particularly when things go sideways and inevitable contingencies arise. No one senior leader can be expected to manage dozens of individuals, much less hundreds.\n",
    "\n",
    "\n",
    "* Teams must be broken down into manageable elements of four to five operators, wich a clearly designated leader. Those leaders must understand the overall mission and intent of the senior leader and organization.\n",
    "\n",
    "\n",
    "* Every tactical-level team leader must understand *not just what to do but why they are doing it*. If frontline leaders do not understand why, they must asktheir boss to clarify the why. This ties in closely with Beleive (chapter 3)\n",
    "\n",
    "\n",
    "* Junior leaders must fully understand what is within their decision-making authority, the left and right limits of their responsibility. They must communicate with senior leaders to recommend decisions outside their authority and pass critical information up the chain so the senior leader can make informed strategic decisions.\n",
    "\n",
    "\n",
    "* Leaders are expected to figure out what needs to be done and do it - to tell higher authority what they plan to do, rather than ask \"what do you want me to do?\" Junior leaders must be proactive rather than reactive.\n",
    "\n",
    "\n",
    "* Frontline leaders must be confident that they clearly understand the strategic mission and objective. They must have implicit trust that their senior leaders will back their decisions. Without this trust, junior leaders cannot confidently execute, which means they cannot exercise effective Decentralized Command.\n",
    "\n",
    "\n",
    "* To ensure this is the case, senior leaders must constantly communicate and push information to their subordinate leaders so they have situation awareness. Similarly, junior leaders must push situational awareness up the chain to their senor leaders to keep them informed, particularly of crucial information that affects strategic decision making.\n",
    "\n",
    "\n",
    "* There are leaders who try to take on too much themselves, when this occurs, operations can quickly dissolve into chaos The fix is to empower frontline leaders through Decentralized Command and ensure they are running t heir teams to support the overall mission, without micromanagement from the top.\n",
    "\n",
    "\n",
    "* Likewise, other senior leaders who are so far removed from the frontline that they become ineffectibe. These leaders might give the appearance of control, but they actually have no idea what they team members are doing and cannot effectively direct their teams. This is called 'battlefield aloofness'. This creates a disconnect between leadership and the team, and such a team will struggle. to effectively accomplish their mission.\n",
    "\n",
    "\n",
    "* Leaders must strike a balance between being close enough to the team to avoid battlefield aloofness but not too close to have to micromanage. Leaders are not stuck in any particular position and must be free to move to where they are most needed, which changes throughout the course of an operation."
   ]
  },
  {
   "cell_type": "markdown",
   "metadata": {},
   "source": [
    "## Part III: Sustaining Victory\n",
    "\n",
    "Requirements of Leadership. To be an effective leader, they must be able to meet the requirements of leadership. They must be able to Plan, Lead up and down the chain, be decisive amid uncertainty, and be able to balance the dichotomy of leadership."
   ]
  },
  {
   "cell_type": "markdown",
   "metadata": {},
   "source": [
    "### 1.9 Chapter 9: Plan <a id=1.9_plan></a> "
   ]
  },
  {
   "cell_type": "markdown",
   "metadata": {},
   "source": [
    "* *What's the mission?* Planning begins with mission analysis. Leaders must identify clear directives for the team.\n",
    "\n",
    "\n",
    "* A broad and ambiguous mission results in lack of focus, ineffective execution, and mission creep. To prevent this, the mission must be carefully refined and simplified so that it is explicitly clear and specifically focused to achieve the greater strategic vision for which that mission is a part. **The mission must explain the overall purpose and desired result, or \"end state,\" of the operation.** The frontline team members tasked with executing the mission must understand the deeper purpose behind the mission.\n",
    "\n",
    "\n",
    "* Leader's intent is actually the most iimportant part of the brief. When understood by everyone involved in the execution of the plan, it guides each decision and action on the ground.\n",
    "\n",
    "\n",
    "* Once a course of action is determined, further planning requires detailed information gathering in order to facilitate the development of a thorough plan. it is critical to utilize all assets and lean on the expertise of those in the best position to provide the most accurate and up-to-date information. \n",
    "\n",
    "\n",
    "* Leaders must delegate the planning process down the chain as much as possible to key subordinate leaers. Team leaders within the greater team and frontline, tactical-level leaders must have ownership of their tasks wthin the overall plan and mission. Team participation - even from the most junior personnel- is critical in developing bold, innovative solutions to problem sets. This helps buy-in, helps them understand the reasons behind the plan and better enables them to believe in the mission, which leads to far more effectibe implementation and execution on the ground.\n",
    "\n",
    "\n",
    "* Leaders must be careful not to get bogged down in the details. By maintaining a perspectibe above the microterrain of the plan, the senior leader can better ensure compliance with strategic objectives. Doing so enables senior leaders to \"stand back and be the tactical genius\" - to identify weaknesses or holes in the plan that those immersed in the details might have missed. This enables leaders to fill in those gaps before execution.\n",
    "\n",
    "\n",
    "* Leaders must carefully prioritize the information to be presented in as simple, clear, and concise a format as possible so that participants do not experience information overload. The planning process and breifing must be a forum that encourages discussion, questions, and clarification from even the most junior personnel to ensure their teams understand the plan.\n",
    "\n",
    "\n",
    "* A successful brief leads to a team that understands the startegic mission, the Leaders Intent, the specific mission of the team and the individual roles within that mission. The team will also understand contingencies to challenges that might arise. *The test for a sucessful brief is simple: Do the team and the supporting elements understand it?*\n",
    "\n",
    "\n",
    "* The plan must mitigate identified risks where possible. A good plan must enable the highest chance of success while mitigating as much risk as possible. There are some risks that simply cannot be mitigated, and leaders must instead focus on those risks that actually can be controlled. \n",
    "\n",
    "\n",
    "* The best teams employ constant analysis of their tactics and measure their effectiveness so that they can adapt their methods and implement lessons learned for future missions. While businesses can have their own planning process, it must be standardized so that other departments within the company and supporting assets outside the company can understand and use the same format and terminology.\n",
    "\n",
    "\n",
    "* A leader’s checklist for planning should include the following: \n",
    "\n",
    "    * Analyze the mission. —Understand higher headquarters’ mission, Commander’s Intent, and endstate (the goal). —Identify and state your own Commander’s Intent and endstate for the specific mission. \n",
    "    * Identify personnel, assets, resources, and time available. \n",
    "    * Decentralize the planning process. —Empower key leaders within the team to analyze possible courses of action. • Determine a specific course of action. —Lean toward selecting the simplest course of action. —Focus efforts on the best course of action. \n",
    "    * Empower key leaders to develop the plan for the selected course of action. \n",
    "    * Plan for likely contingencies through each phase of the operation. \n",
    "    * Mitigate risks that can be controlled as much as possible. \n",
    "    * Delegate portions of the plan and brief to key junior leaders. —Stand back and be the tactical genius. \n",
    "    * Continually check and question the plan against emerging information to ensure it still fits the situation. \n",
    "    * Brief the plan to all participants and supporting assets. —Emphasize Commander’s Intent. —Ask questions and engage in discussion and interaction with the team to ensure they understand. \n",
    "    * Conduct post-operational debrief after execution. —Analyze lessons learned and implement them in future planning."
   ]
  },
  {
   "cell_type": "markdown",
   "metadata": {},
   "source": [
    "### 1.10 Chapter 10: Leading Up and Down the Chain <a id=1.10_leading_up_and_down_the_chain></a> "
   ]
  },
  {
   "cell_type": "markdown",
   "metadata": {},
   "source": [
    "#### Leading Down the Chain\n",
    "\n",
    "\n",
    "* Any good leader is immersed in the planning and execution of tasks, projects, and operations to move te team toward a strategic goal. Such leaders possess insight into the bigger picture and why specific tasks need to be accomplished. This information does not automatically translate to subordinate leaders and the frontine workers. \n",
    "\n",
    "\n",
    "* It is critical that both junior and senior leaders have an understanding of each other's role and it is paramount that senior leaders explain to their junior leaders and troops executing the mission how their role contributes to big picture success.\n",
    "\n",
    "\n",
    "* Leaders must routinely communicate with their team members to help them understand their role in the overall mission. Frontline leaders and tropps can then connect the dots between what they do every day - the day-to-day operations - and how that impacts the company's strategic goals. This understanding helps the team members prioritize their efforts in a rapidly changing, dynamic environment. That is leading down the chain of command.\n",
    "\n",
    "\n",
    "#### Leading Up the Chain\n",
    "\n",
    "\n",
    "* If your boss isn't making a decision in a timely maner or providing necessary support for you and your team, don't blame the boss. First, blame yourself. Examine what you can do to better convey the critical information for decisions to be made and support allocated.\n",
    "\n",
    "\n",
    "* Leading up the chain of command requires tactful engagement with the immediate boss to obtain the decisions and support necessary to enable your team to accomplish its mission and ultimately win. To do this, a leader must push situational awareness up the chain of command.\n",
    "\n",
    "\n",
    "* While pushing to make your superior understand what you need, you must also realize that your boss must allocate limited assets and make decisions with the bigger picture in mind. you and your team may not represet the prority effort at that particular time. Or perhaps senior leadership has chosen a different direction. Have the humility to undersatand and accept this.\n",
    "\n",
    "\n",
    "* *One of the most important jobs of any leader is to support your own boss -* your immediate leadership. In any chain of command, the leadership must always present a united front to the troops. A public display of discontent or disagreement with the chain of command undermines the authority of leaders at all levels. This is catastrophic to the performance of any organization.\n",
    "\n",
    "\n",
    "* Leaders in any chain of command will not always agree. But at the end of the day, once the debate on a particular course of action is over and the boss has made a decision - even if that decision is one you argued against - you must execute the plan *as if it were your own*.\n",
    "\n",
    "\n",
    "* If your leader is not giving the support you need, dn't blame him or her. Instead, re-examine what you can do to better clarify, educate, influence, or convince that person to give you what you need in order to win.\n",
    "\n",
    "\n",
    "* The major factors to be aware of when leading up and down the chain of command are these: \n",
    "    * Take responsibility for leading everyone in your world, subordinates and superiors alike. \n",
    "    * If someone isn’t doing what you want or need them to do, look in the mirror first and determine what you can do to better enable this. \n",
    "    * Don’t ask your leader what you should do, tell them what you are going to do."
   ]
  },
  {
   "cell_type": "markdown",
   "metadata": {},
   "source": [
    "### 1.11 Chapter 11: Decisiveness amid Uncertainty<a id=1.11_decisiveness_amid_uncertainty></a> "
   ]
  },
  {
   "cell_type": "markdown",
   "metadata": {},
   "source": [
    "* It is critical for leaders to act decisively amid uncertainty: to make the best decisions they can based on only the immediate information available.\n",
    "\n",
    "\n",
    "* There is no 100% right solution. The picture is never complete. Leaders must be comfortable with this and be able to make decisions promtply, then be ready to adjust those decisions quickly based on evolving situations and new information.\n",
    "\n",
    "\n",
    "* Intelligence gathering and reasearch are important, but they must be employed with realistic expectations and must not impede swift decision making that is often the difference between victory and defeat.\n",
    "\n",
    "\n",
    "* Waiting for the 100 percent right and certain solution leads to delay, indecision, and inability to execute. Leaders must be prepared to make an educated guess based on previous experience, knowledge of how things operate, likely outcomes, and whatever intelligence is available in the immediate moment. Leaders should also consult fellow leaders and leverage any resource available to help them make the best decision possible.\n",
    "\n",
    "\n",
    "* Outcomes are never certain: success never guaranteed. even so, business leaders must be comfortable in the chaos and act decisively amid such uncertainty."
   ]
  },
  {
   "cell_type": "markdown",
   "metadata": {},
   "source": [
    "### 1.12 Chapter 12: Discipline Equals Freedom - The Dichotomy of Leadership<a id=1.12_discipline_equals_freedom></a> "
   ]
  },
  {
   "cell_type": "markdown",
   "metadata": {},
   "source": [
    "* Every leader must walk a fine line. That's what makes leadership so challenging. Just as discipline and freedom are opposing forces that must be balanced, leadership requires finding the equilibrium in the dichotomy of many seemingly contradictory qualities, between one extreme and another. The simple recognition of this is one of the most powerful tools a leader has.\n",
    "\n",
    "\n",
    "* A leader must lead but also be ready to follow. Sometimes, another member of theteam - perhaps a subordinate or direct report - might be in a better position to develop a plan, make a decision, or lead through a specific situation. Good leaders must welcome this, putting aside ego and personal agendas to ensure that the team has the greatest chance of accomplishing its strategic goals. \n",
    "\n",
    "\n",
    "* A true leader is not intimidated when others step up and take charge. leaders that lack confidence in themselves fear being outshined by someone else. If the team is successful, then recognition will come for those in charge, but a leader should not seek that recognition. A leader must be confident enough to follow someone else when the situation calls for it.\n",
    "\n",
    "\n",
    "* A leader must be aggressive but not overbearing. They must ensure that everyone below them in the chain of command felt comfortable approaching them with concerns, ideas, thoughts, and even disagreements. If they felt something was wrong or thought there was a better way to execute, leaders encourage their team, regarldess of rank, to come with questions and present an opposing view.\n",
    "\n",
    "\n",
    "* A leader must be calm but not robotic. It is normal - and necessary- to show emotion. The team must understand that their leader cares about them and their wellbeing. But, a leader must control his or her emotions. If not, how can they expect to control anything else? Leaders who lose their temper also lose respect. But, at the same time, to never show any sense of anger, sadness, or frustration would make that leader appear void of any emotion at all - a robot. People do not follow robots.\n",
    "\n",
    "\n",
    "* A leader must be confident but never cocky. Confidence is contagious, a great attribute for a leader and a team. But when it goes too far, overconfidence causes complacency and arrogance, which ultimately set the team up for failure.\n",
    "\n",
    "\n",
    "* A leader must be brave but not foolhardy. He or she must be willing to accept risk and act courageously, but must never be reckless. it is a leader's job to always mitigate as much as possible those risks that can be controlled to accomplish the mission without sacrificing the team or excessively expending critical resources.\n",
    "\n",
    "\n",
    "* Leaders must have a competitive spirit but also be gracious losers. They must drive competition and push themselves and their teams to perform at the highest level. But they must never put their own drive for personal success ahead of overall mission success for the greater team. Leaders must act with professionalism and recognize others for their contributions.\n",
    "\n",
    "\n",
    "* A leader must be attentive to details but not obsessed by them. A good leader does not get bogged down in the minutia of a tactical problem at the expense of strategic success. he or she must monitor and check the team's progress in the most critical tasks. But that leader cannot get sucked into the details and lose track of the bigger picture.\n",
    "\n",
    "\n",
    "* A leader must be strong but likewise have endurance, not only physically but mentally. he or she must maintain the ability to perform at the highest level and sustain that level for the long term. Leaders must recognize limitations and know to pace themselves and their teams so that they can maintain a solid performance indefinitely.\n",
    "\n",
    "\n",
    "* Leaders must be humble but not passive; quiet but not silent. They must possess humility and the ability to control their ego and listen to others. They must admit mistakes and failures, take ownership of them, and figure out a way to prevent them from happening again. But a leader must be able to speak up when it matters. THey must be able to stand up for the team and respectfully push back against a decision, order, or direction that could negatively impact overall mission success. \n",
    "\n",
    "\n",
    "* A leader must be close with subordinates but not too close. The best leaders understand the motivations of their team members and how. their people - their lives and their families. But a leader must never grow so close to subordinates that one member of theteam becomes more important than another, or more important than the mission itself. Leaders must never get so close that the team forgets who is in charge.\n",
    "\n",
    "\n",
    "* A leader must exercise Extreme Ownership and simultaneously employ Decentralized Command by giving control to subordinate leaders.\n",
    "\n",
    "\n",
    "* A leader has nothing to prove but everything to prove. A good leader does not gloat or revel in his or her position. A team understands that the leader is de facto in charge and in that respect, a leader has nothing to prove. But in another respect, a leader has everythingto prove: every member of the team must develop the trust and confidence that their leader willexercise good judgementm remain calm, and make the right decisions when it matters most. Leaders must earn that respect and prove themselves worthy, demonstrating through action thatthey will take care of the team and look out for their long-term interests and well-being. In that respect, a leader has everything to prove.\n",
    "\n",
    "\n",
    "* The Dichotomy of Leadership A good leader must be: \n",
    "\n",
    "    * confident but not cocky; • courageous but not foolhardy; \n",
    "    * competitive but a gracious loser; \n",
    "    * attentive to details but not obsessed by them; \n",
    "    * strong but have endurance; \n",
    "    * a leader and follower; \n",
    "    * humble not passive; \n",
    "    * aggressive not overbearing; \n",
    "    * quiet not silent; \n",
    "    * calm but not robotic, logical but not devoid of emotions; \n",
    "    * close with the troops but not so close that one becomes more important than another or more important than the good of the team; not so close that they forget who is in charge. \n",
    "    * able to execute Extreme Ownership, while exercising Decentralized Command. \n",
    "    * A good leader has nothing to prove, but everything to prove."
   ]
  },
  {
   "cell_type": "markdown",
   "metadata": {},
   "source": [
    "##  2. The Dichotomy of Leadership: Balancing the Challenges of Extreme Ownership to Lead and Win<a id='2_dichotomy_of_leadership'></a>\n",
    "\n",
    "The content in The Dichotomy of Leadership: Balancing the Challenges of Extreme Ownership to Lead and Win was taken from the book: **The Dichotomy of Leadership by Jocko Willink and Leif Babin**"
   ]
  },
  {
   "cell_type": "markdown",
   "metadata": {},
   "source": [
    "## Part I: Balancing People"
   ]
  },
  {
   "cell_type": "markdown",
   "metadata": {},
   "source": [
    "### 2.1 Chapter 1: The Ultimate Dichotomy<a id=2.1_ultimate_dichotomy></a> "
   ]
  },
  {
   "cell_type": "markdown",
   "metadata": {},
   "source": [
    "* The ultimate dichotomy for a leader is to care deeply for each individual member of theteam, while at the same time accepting the risks necessary to accomplish the mission. A good leader builds powerful, strong relationships with his or her subordinates. While that leader would do anything to support the team members, the leader must recognize there is a job to do and that job might put the very people the leader cares so much about at risk.\n",
    "\n",
    "\n",
    "* if leaders develop overly close relationships with their people, they may not be willing to make those people do what is necessary to complete a project or a task. They may ot have the wherewithal to lay off individuals with whom they ahve relationships, even if it is the right move for the good of the company. Some leaders get so close to their people that they don't wantto ahve hard conversations with them such as telling them that they need to improve.\n",
    "\n",
    "\n",
    "* On. the other hand, if a leader is too detached from the team, he or she may overwork, overexpose, or otherwise harm its members while achieving no significant value from that sacrifice. The leader may be too quick to fire people to save a buck, thereby developing the reputation of not caring about the team beyond its ability to support thestrategic goals.\n",
    "\n",
    "\n",
    "* Leaders must find the balance. They must push hard without pushing too hard. They must drive their team to accomplish the mission witout driving them off a cliff."
   ]
  },
  {
   "cell_type": "markdown",
   "metadata": {},
   "source": [
    "### 2.2 Chapter 2: Own It All, but Empower Others<a id=2.2_own_empower></a> "
   ]
  },
  {
   "cell_type": "markdown",
   "metadata": {},
   "source": [
    "* Micromanagement and hands-off leadership styles are obviously opposites. Micromanagement fails because no one person can control multiple people executing a vast number of actions in a dynamic environment, where changes in the situation occur rapidly and with predictability. It also inhibits the growth of sub-ordinates: when people become accustomed to being told what to do, they begin to await direction. initiative fades and eventually dies. Creativity and bold thought and action soon dies as well.\n",
    "\n",
    "\n",
    "* The hands-off leader with a laisser-faire attitude is on the opposite end of the spectrum. Such a leader fails to provide specific direction - in some cases almost no clear direction whatsoever. Instead of a lack of thought like a team that is micromanaged, a team with a hands-off leader thinks too much. It's members have grand ideas and plans, they come up with new tactics and procedures - they even start to develop their own borad stregies beyond the boundaries of their responsibilities and competence. Instead of pushing the team towards its strteic goals, the team moves in random directions. They will thus fail to provide each other with simple support and often work on projects or efforts that directly conflict with what other members of the team are doing.\n",
    "\n",
    "\n",
    "* In order to correctly balance these two ledership styles, a leader must find the middle ground and pay attention to the team, ensuring that the leader doesn't push too far in one direction or the other.\n",
    "\n",
    "\n",
    "* Here are the commons symptoms that result from micromanagement: \n",
    "\n",
    "    1. The team shows a lack of initiative. Members will not take action unless directed. \n",
    "    2. The team does not seek solutions to problems; instead, its members sit and wait to be told about a solution.     3. Even in an emergency, a team that is being micromanaged will not mobilize and take action. \n",
    "    4. Bold and aggressive action becomes rare. \n",
    "    5. Creativity grinds to a halt. \n",
    "    6. The team tends to stay inside their own silo; not stepping out to coordinate efforts with other departments or divisions for fear of overstepping their bounds. \n",
    "    7. An overall sense of passivity and failure to react.\n",
    "    \n",
    "    \n",
    "* Once a leader sees these behaviors in the team, corrective action must be taken. The leader must pull back from giving detailed direction; instead of explaining what the mission is and how to accomplish it, the leader should explain the broad goal of the mission, the end state that is desired, and why the mission is important and then allow the team to plan how to execute the mission.\n",
    "\n",
    "\n",
    "* if there is an opportunity when time and risk levels permit, a leader can step away from theteam completely and allow it to plan and execute a mission on its own. Given the opportunity, junior leaders quickly transform from passively waiting to be told what to do into proactive leaders who assessed problems and implemented solutions.\n",
    "\n",
    "\n",
    "* Here are common symptoms that indicate when a leader is too hands-off with his team:\n",
    "\n",
    "    1. Lack of vision in what the team is trying to do and how to do it. \n",
    "    2. Lack of coordination between individuals on the team and efforts that often compete or interfere with each other. \n",
    "    3. Initiative oversteps the bounds of authority, and both individuals and teams carry out actions that are beyond what they have the authorization to do. \n",
    "    4. Failure to coordinate. While a micromanaged team might not coordinate with other teams because it doesn’t want to overstep its bounds, a team without good guidance may also fail to coordinate not out of fear but out of ignorance. In its efforts to solve problems and accomplish the mission, the team forgets that other teams might also be maneuvering and end up interfering with their efforts. \n",
    "    5. The team is focused on the wrong priority mission or pursuit of solutions that are not in keeping with the strategic direction of the team or the commander’s intent. \n",
    "    6. There are too many people trying to lead. Since everyone is trying to lead, there won’t be enough people to execute. Instead of progress, the leader will see discussion; instead of action, the leader will see prolonged debate; instead of unified movement, the leader will see fractured elements pursuing individual efforts.\n",
    "    \n",
    "    \n",
    "* If we observe these behaviours, we have the following actions that can be taken to get the team back on track.\n",
    "\n",
    "    1. Clear guidance must be given. The mission, the goal and the end state must be expalined in a simple, clear and concise manner.\n",
    "    2. The team must understand the boundaries that are in place and what actions to take should it bump up against t hose boundaries. If multiple, simultaneous, overlapping efforts are being pursued, the leader must decide on and clearly implement the chosen course of action.\n",
    "    3. The team must be educated on efforts being executed by other teams so taht deconfliction can occur. \n",
    "    4. Finally, if a team is paralyzed by too many people trying to lead - the classic case of \"too many coaches, not enoug hplayers\" - then the leader must assign and clearly delinearte the chain of command, roles and responsibilities of theteam leaders and give them proper authority.\n"
   ]
  },
  {
   "cell_type": "markdown",
   "metadata": {},
   "source": [
    "### 2.3 Chapter 3: Resolute, but Not Overbearing<a id=2.3_resolute_not_overbearing></a>"
   ]
  },
  {
   "cell_type": "markdown",
   "metadata": {},
   "source": [
    "* Leaders, on the one hand, cannot be too lenient. But on the other hand, they cannot become overbearing. They must set high standards and drive the team to achieve those standards, but they cannot be domineering or inflexible on matters of little strategic importance.\n",
    "\n",
    "\n",
    "* Leaders must determine when to listen to subordinate leaders and allow them ownership, making adjustments for their concerns and needs.\n",
    "\n",
    "\n",
    "* Leadership capital is the recognition that there is a finite amount of power that any leader possesses. It can be expended foolishly, by leaders who harp on matters that are trivial and strategically unimportant. Such capital is acquired slowly over time through building trust and confidence with the team by demonstrating that the leader has the long-term good of the team and the mission in mind. Prioritizing those areas where standards cannot be compromised and holding the line there while allowing for some slack in other, less critical areas is a wise use of leadership capital.\n",
    "\n",
    "\n",
    "* When a leader must hold the line and enforce standards, it must always be done with the explanation of why it is important, why it will help accomplish the mission, and what the consequences are for failing to do so. It must never be done with the attitude of “because I said so.”\n",
    "\n",
    "\n",
    "* As a leader, you have to balance the dichotomy, to be resolute where it matters but never overbearing; never inflexible and uncompromising on matters of little importance to the overall good of the team and the strategic mission."
   ]
  },
  {
   "cell_type": "markdown",
   "metadata": {},
   "source": [
    "### 2.4 Chapter 4: When to Mentor, When to Fire<a id=2.4_mentor_fire></a>"
   ]
  },
  {
   "cell_type": "markdown",
   "metadata": {},
   "source": [
    "* Most underperformers don’t need to be fired, they need to be led. But once every effort has been made to help an underperformer improve and all efforts have failed, a leader has to make the tough call to let that person go. This is the duty and responsibility of every leader.\n",
    "\n",
    "\n",
    "* The goal of any leader is to get the most out of every individual—to push each individual to reach his or her maximum potential so that the team itself can reach its maximum potential. Conversely, leaders must also understand that human beings have limitations; not every person on a team will be suited for a particular job. Some people might need a less technical position. Some people can’t handle stress. Some might not work well with others. Some might lack the creativity to come up with new ideas or solve problems. This doesn’t mean they are worthless—it just means that the leader needs to utilize them in a position where their strengths are fully capitalized.\n",
    "\n",
    "\n",
    "* Occasionally, there are people who simply cannot perform to the required level in any capacity. Once a leader has exhausted remedial measures through coaching, mentoring, and counseling, the leader then must make the tough call: remove that individual from the team.\n",
    "\n",
    "\n",
    "* The dichotomy in this situation is balancing between taking care of individuals by keeping them around even if they lack the skill set to do the job properly and protecting the team by removing people from positions where they negatively impact the team and the mission. A leader must be loyal to his individual team members and take care of them, but at the same time he must be loyal to the team itself and ensure that every member of the team has a net positive impact and doesn't detract from mision execution.\n",
    "\n",
    "\n",
    "* “When is the right time to fire someone?” The answer is this: When a leader has done everything possible to get an individual up to speed without seeing results, the time has come to let that individual go. Don’t be too quick to fire—but don’t wait too long. Find the balance and hold the line."
   ]
  },
  {
   "cell_type": "markdown",
   "metadata": {},
   "source": [
    "## Part II: Balancing the Mission"
   ]
  },
  {
   "cell_type": "markdown",
   "metadata": {},
   "source": [
    "### 2.5 Chapter 5: Train Hard, but Train Smart<a id=2.5_train_hard_smart></a>"
   ]
  },
  {
   "cell_type": "markdown",
   "metadata": {},
   "source": [
    "* Hard training is critical to the performance of any team; “You train how you fight and you fight how you train.”The best training programs push their teams hard, far beyond their comfort zone, so that the team can learn from mistakes in training. Hopefully, this prevents the team from making those or similar mistakes in real life.\n",
    "\n",
    "\n",
    "* Sometimes in the midst of training some teams want to stay in their comfort zone. Leaders can’t allow that. Training must be hard. Training must simulate realistic challenges and apply pressure to decision-makers. There is no growth in the comfort zone. If training doesn’t push the team beyond the limits of what is easy, the team, and particularly leaders within the team, will never develop the capacity to take on greater challenges.\n",
    "\n",
    "\n",
    "* As in everything, leaders must find the balance in training and focus on three critical aspects: realism, fundamentals, and repetition. Training must be realistic. Every training scenario should be based upon something that is likely to (or could potentially) be encountered in a real scenario. The takeaways must be immediately applicable to the team’s mission.\n",
    "\n",
    "\n",
    "* Training should push the team, and particularly leaders, into realistic, uncomfortable situations where they aren’t sure what to do. In the business world, training must do the same. Role-play scenarios dealing with a problem client or customer, or a high-pressure decision that must be made immediately, when the outcome isn’t certain and the picture not 100 percent clear. Reherse the contingencies for a serious accident and run the procedures that must be followed even under high stress.\n",
    "\n",
    "\n",
    "* Training must focus on the fundamentals. While units must adapt and innovate, some basic tactics do not change. Just as this is true in military tactics, it is true in any business or area of life. Often people want to skip through the basic fundamentals into what they call “advanced tactics.” But advanced tactics are worthless if a team can’t do the basics well. Leaders must ensure that a training program develops the foundation of basic fundamentals.\n",
    "\n",
    "\n",
    "* Training must be repetitive. It is not enough to have a training program for new hires in the first days or weeks that they join the team. Training must be continuous for everyone. Each person gets better with iterations, so it is important to plan repetitive training over time that challenges each member of the team—particularly leaders.\n",
    "\n",
    "\n",
    "* The best training programs are not orchestrated from the top but driven from the bottom—the frontline leaders who are closest to the action and the lessons learned. Utilize the most accomplished members of the team to drive training programs and pass on lessons learned to others. The key to great training is finding balance. Hard training is essential, but smart training is crucial to maximize the use of time and enable optimal learning.\n",
    "\n"
   ]
  },
  {
   "cell_type": "markdown",
   "metadata": {},
   "source": [
    "### 2.6 Chapter 6: Aggressive, Not Reckless<a id=2.6_aggressive_not_reckless></a>"
   ]
  },
  {
   "cell_type": "markdown",
   "metadata": {},
   "source": [
    "* Problems aren’t going to solve themselves—a leader must get aggressive and take action to solve them and implement a solution. Being too passive and waiting for a solution to appear often enables a problem to escalate and get out of control.\n",
    "\n",
    "\n",
    "* The good deal isn’t going to deliver itself to a company—the leader has to go out and make a good deal happen. Changes and new methodologies in a team aren’t going to implement themselves—leaders need to aggressively implement them. An aggressive mind-set should be the default setting of any leader. Default: Aggressive. This means that the best leaders, the best teams, don’t wait to act. Instead, understanding the strategic vision (or commander’s intent), they aggressively execute to overcome obstacles, capitalize on immediate opportunities, accomplish the mission, and win.\n",
    "\n",
    "\n",
    "* Rather than passively waiting to be told what to do, Default: Aggressive leaders proactively seek out ways to further the strategic mission. They understand the commander’s intent, and where they have the authority to do so, they execute. For decisions that are beyond their pay grade or above their authority, Default: Aggressive leaders still make a recommendation up the chain of command to solve problems and execute key tasks to achieve strategic victory. This mentality is crucial to any leader, in any team or organization.\n",
    "\n",
    "\n",
    "* “Aggressive” means proactive. It doesn’t mean that leaders can get angry, lose their temper, or be aggressive toward their people. A leader must always deal professionally with subordinates on the team, peers, leaders up the chain of command, customers or clients, and personnel in supporting roles outside the immediate team. The aggression that wins on the battlefield, in business, or in life is directed not toward people but toward solving problems, achieving goals, and accomplishing the mission.\n",
    "\n",
    "\n",
    "* It is also critical to balance aggression with careful thought and analysis to make sure that risks have been assessed and mitigated. The dichotomy with the Default: Aggressive mind-set is that sometimes hesitation allows a leader to further understand a situation so that he or she can react properly to it. Rather than immediately respond to enemy fire, sometimes the prudent decision is to wait and see how it develops.\n",
    "\n",
    "\n",
    "* To be overly aggressive, without critical thinking, is to be reckless. That can lead the team into disaster and put the greater mission in peril. To disregard prudent counsel when someone with experience urges caution, to dismiss significant threats, or to fail to plan for likely contingencies is foolhardy. It is bad leadership.\n",
    "\n",
    "\n",
    "* A chief contributing factor to recklessness comes from what military historians have long referred to as “the disease of victory.” This disease takes place when a few battlefield successes produce an overconfidence in a team’s own tactical prowess while underestimating the capabilities of its enemy or competitor. This is a problem not just for combat leaders but for leaders and teams anywhere, in any arena, throughout the business world and the civilian sector.\n",
    "\n",
    "\n",
    "* It is a leader’s duty to fight against this victory disease so that the team, despite its success, never gets complacent. The risk in any action must be carefully weighed against the potential rewards of mission success. And of course, to counter that thought, the cost of inaction must be weighed as well. As aggressive as leaders must be, leaders must be cautious that they are not “running to their deaths” simply because their instinct is to take action. The dichotomy between aggression and caution must be balanced. So be aggressive, but never reckless."
   ]
  },
  {
   "cell_type": "markdown",
   "metadata": {},
   "source": [
    "### 2.7 Chapter 7: Disciplined, Not Rigid<a id=2.7_disciplined_not_rigid></a>"
   ]
  },
  {
   "cell_type": "markdown",
   "metadata": {},
   "source": [
    "* While “Discipline Equals Freedom” is a powerful tool for both personal and team development, excessive discipline can stifle free thinking in team leaders and team members. Disciplined standard operating procedures, repeatable processes, and consistent methodologies are helpful in any organization.\n",
    "\n",
    "\n",
    "* The more discipline a team exercises, the more freedom that team will have to maneuver by implementing small adjustments to existing plans. When facing a mission or a task, instead of having to craft a plan from scratch, a team can follow standard operating procedures for the bulk of the plan.\n",
    "\n",
    "\n",
    "* There must be balance. In some organizations, both in the military and in the civilian sector, there are leaders who put too many standard operating procedures in place. They create such strict processes that they actually inhibit their subordinate leaders’ willingness—and ability—to think. This may adversely impact the team’s performance and become a detriment to the mission, preventing effective leadership at every level of the organization.\n",
    "\n",
    "\n",
    "* Disciplined procedures must be balanced with the ability to apply common sense to an issue, with the power to break with SOPs when necessary, with the freedom to think about alternative solutions, apply new ideas, and make adjustments to processes based on the reality of what is actually happening.  If discipline is too strict, team members cannot make adjustments, cannot adapt, and cannot use their most precious asset—their brains—to quickly develop customized solutions to unique problems for which the standard solution might not work. And when taken to an extreme, too much discipline—too many processes and too many standard procedures—completely inhibits and stifles the initiative of subordinates. Instead of stepping up and making necessary changes, leaders confined to strict procedures will simply follow the procedures even when those procedures are obviously leading to failure.\n",
    "\n",
    "\n",
    "* As a leader it is critical to balance the strict discipline of standard procedures with the freedom to adapt, adjust, and maneuver to do what is best to support the overarching commander’s intent and achieve victory. For leaders, in combat, business, and life, be disciplined, but not rigid.\n"
   ]
  },
  {
   "cell_type": "markdown",
   "metadata": {},
   "source": [
    "### 2.8 Chapter 8: Hold People Accountable, but Don't Hold Their Hands<a id=2.8_accountable></a>"
   ]
  },
  {
   "cell_type": "markdown",
   "metadata": {},
   "source": [
    "* Accountability is an important tool that leaders must utilize. However, it should not be the primary tool. It must be balanced with other leadership tools, such as making sure people understand the why, empowering subordinates, and trusting they will do the right thing without direct oversight because they fully understand the importance of doing so.\n",
    "\n",
    "\n",
    "* Unfortunately, leaders often get the idea that accountability can solve everything—and in a sense they are right. If a leader wants to ensure a subordinate follows through with a task, the leader can inspect repeatedly to confirm that the task gets done. With enough oversight, task completion can achieve 100 percent success. This is why leaders often want to use accountability to fix problems: it is the most obvious and simple method. The leader tells a subordinate to carry out a task; the leader watches the subordinate do the task; the leader inspects the task once it is complete. There is almost no room for error.\n",
    "\n",
    "\n",
    "* If there are multiple subordinates with multiple tasks, a leader very quickly becomes physically incapable of inspecting them all. On top of that, while focused down the chain of command and inward toward the team, the leader will have no ability to look up and out—up toward senior leadership to build relationships and influence strategic decisions and out toward the strategic mission to anticipate future operations and understand developments.\n",
    "\n",
    "\n",
    "* Instead of using accountability as the primary tool of leadership, leaders should implement it as just one of many leadership tools. Instead of holding people accountable, the leader has to lead. The leader must make sure the team understands why. Make sure its members have ownership of their tasks and the ability to make adjustments as needed. Make sure they know how their task supports the overall strategic success of the mission. Make sure they know how important their specific task is to the team and what the consequences are for failure.\n",
    "\n",
    "\n",
    "* It is imperative that leaders hold the line and uphold the standards where it matters most. That is another dichotomy nested in accountability: there are absolutely cases when accountability should and must be used. If a subordinate is not performing to standard, despite understanding why, despite knowing the impact on the mission, and despite being given ownership, then a leader must hold the line. That method is accountability. The leader must drill down and micromanage tasks in order to get the subordinate on track. But the leader cannot stay there. The leader must eventually give subordinates leeway to perform based on their own intrinsic drive—not because they are being held accountable, and not based on the micromanagement of the leader, but because they have a better understanding of why.\n",
    "\n",
    "\n",
    "* That is where balance must be found: use accountability as a tool when needed, but don’t rely on it as the sole means of enforcement. A reliance on heavy accountability consumes the time and focus of the leader and inhibits the trust, growth, and development of subordinates. Instead, balance accountability with educating the team and empowering its members to maintain standards even without direct oversight from the top. This is the hallmark of the highest-performing teams that dominate."
   ]
  },
  {
   "cell_type": "markdown",
   "metadata": {},
   "source": [
    "## Part III: Balancing Yourself"
   ]
  },
  {
   "cell_type": "markdown",
   "metadata": {},
   "source": [
    "### 2.9 Chapter 9: A Leader and a Follower<a id=2.9_leader_follower></a>"
   ]
  },
  {
   "cell_type": "markdown",
   "metadata": {},
   "source": [
    "* Every leader must be willing and able to lead, but just as important is a leader’s ability to follow. A leader must be willing to lean on the expertise and ideas of others for the good of the team. Leaders must be willing to listen and follow others, regardless of whether they are junior or less experienced. If someone else has a great idea or specific knowledge that puts them in the best position to lead a particular project, a good leader recognizes that it doesn’t matter who gets the credit, only that the mission is accomplished in the most effective manner possible.\n",
    "\n",
    "\n",
    "* Confident leaders encourage junior members of the team to step up and lead when they put forth ideas that will contribute to mission success. When the team wins, much of the credit goes to the leader, whether or not that leader was the person driving the operation, tactics, or strategy, and a good leader pushes the praise and accolades down to their team.\n",
    "\n",
    "\n",
    "* At the same time, a good leader must also be a good follower of his or her own senior leaders. As we wrote in Extreme Ownership: “One of the most important jobs of any leader is to support your own boss.” When the debate on a particular course of action ends and the boss makes a decision—even if you disagree with the decision—“you must execute the plan as if it were your own.”\n",
    "\n",
    "\n",
    "* Under normal circumstances, a good leader must follow and support the chain of command. Often, for natural leaders who are eager to step up and take charge, it may be a struggle to follow a leader who is less competent, less aggressive, uncharismatic, or uninspiring. Regardless, when lawful orders from the boss or higher chain of command conflict with a leader’s ideas, a subordinate leader must still be willing to follow and support the chain of command. Failing to do this undermines the authority of the entire chain of command, including that of the defiant leader. Failing to follow also creates an antagonistic relationship up the chain of command, which negatively impacts the willingness of the boss to take input and suggestions from the subordinate leader, and hurts the team.\n",
    "\n",
    "\n",
    "* When a leader is willing to follow, the team functions effectively and the probability of mission success radically increases. This is the dichotomy to balance: be a leader and a follower.\n"
   ]
  },
  {
   "cell_type": "markdown",
   "metadata": {},
   "source": [
    "### 2.10 Chapter 10: Plan, but Don't Overplan<a id=2.10_plan_dont_overplan></a>"
   ]
  },
  {
   "cell_type": "markdown",
   "metadata": {},
   "source": [
    "* For planning, there is a dichotomy within which leaders must find balance. You cannot plan for every contingency. If you try to create a solution for every single potential problem that might arise, you overwhelm your team, you overwhelm the planning process, you overcomplicate decisions for leaders. Rather than preventing or solving problems, overplanning creates additional and sometimes far more difficult problems.\n",
    "\n",
    "\n",
    "* Leaders should focus on only the most likely contingencies that might arise for each phase of an operation. Choose at most the three or four most probable contingencies for each phase, along with the worst-case scenario. This will prepare the team to execute and increase the chances of mission success.\n",
    "\n",
    "\n",
    "* It is important, however, that leaders manage the dichotomy in planning by not straying too far in the other direction—by not planning enough for contingencies. When leaders dismiss likely threats or problems that could arise, it sets the team up for greater difficulties and may lead to mission failure. At every level of the team, leaders must fight against complacency and overconfidence.\n",
    "\n",
    "\n",
    "* Business leaders, too, must never become callous with the livelihoods and careers of their employees and associates or the capital invested. Each risk requires careful evaluation, weighing, and balancing the risk versus the reward—the benefit to the team and to the strategic mission of a successful outcome. Careful contingency plans that are focused are key to managing such risks and achieving victory. It is difficult to balance the dichotomy between these two extremes. But it is critical for every leader to understand that in order to be successful, he or she must plan, but not overplan."
   ]
  },
  {
   "cell_type": "markdown",
   "metadata": {},
   "source": [
    "### 2.11 Chapter 11: Humble, Not Passive<a id=2.11_humble_not_passive></a>"
   ]
  },
  {
   "cell_type": "markdown",
   "metadata": {},
   "source": [
    "* Humility is the most important quality in a leader. When SEAL leaders were removed from leadership positions in a platoon or task unit, it was almost never because they were tactically unsound, physically unfit, or incompetent. It was most often because they were not humble: they couldn’t check their ego, they refused to accept constructive criticism or take ownership for their mistakes. The same applies in the business world.\n",
    "\n",
    "\n",
    "* Humility is essential to building strong relationships with others, both up and down the chain of command, as well as with supporting teams outside the immediate chain of command. Some leaders took this too far and became humble to a fault. But being too humble can be equally disastrous for the team. A leader cannot be passive. When it truly matters, leaders must be willing to push back, voice their concerns, stand up for the good of their team, and provide feedback up the chain against a direction or strategy they know will endanger the team or harm the strategic mission.\n",
    "\n",
    "\n",
    "* This is a difficult dichotomy to balance. But as with all the dichotomies—being strong, but not overbearing, for example—just the awareness of these two opposing forces becomes one of the most powerful tools at a leader’s disposal. Leaders must be humble enough to listen to new ideas, willing to learn strategic insights, and open to implementing new and better tactics and strategies. But a leader must also be ready to stand firm when there are clearly unintended consequences that negatively impact the mission and risk harm to the team."
   ]
  },
  {
   "cell_type": "markdown",
   "metadata": {},
   "source": [
    "### 2.12 Chapter 12: Focused, but Detached<a id=2.12_focused_but_detached></a>"
   ]
  },
  {
   "cell_type": "markdown",
   "metadata": {},
   "source": [
    "* In combat, when you look down the sights of your weapon, your field of view becomes narrow and focused. Your vision is restricted by the small aperture of your weapons sight. You cannot see what is happening around you or the team. It is critical, then, to ensure that a leader’s default weapon position should be at high port—gun pointed at the sky, standing back to observe with the widest field of vision possible. This enables a leader to look around and even move around, where he or she can best provide command and control for the team. Most important, it allows a leader to keep the larger, overarching goals of the mission in perspective. The analogy applies directly to non-combat situations. It is no different in the business world, where leaders must ensure they don’t get sucked into the tactical details but maintain the ability to detach.\n",
    "\n",
    "\n",
    "* Detachment is also an ongoing issue with which many leaders struggle. Leaders cannot allow themselves to get so obsessed by the details that they lose focus on the bigger picture. It is essential for leaders to understand that this should be their default mind-set, so they can always be aware of it. If they don’t maintain a position above the fray, then leaders are failing their team and failing the mission.\n",
    "\n",
    "\n",
    "* There needs to be balance somewhere between understanding the details and becoming completely submerged and overwhelmed by them. Leaders can’t get so far away—so detached—that they lose track of what’s happening on the front lines. Leaders must still be attentive to the details, understand the challenges of the teams executing the mission at the front echelon, and position themselves where they can best support their teams. This is the dichotomy that must be balanced: to become engrossed in and overwhelmed by the details risks mission failure, but to be so far detached from the details that the leader loses control is to fail the team and fail the mission."
   ]
  },
  {
   "cell_type": "markdown",
   "metadata": {},
   "source": [
    "#  3. David Lam's Leadership Principles and Blueprint for Building High Performance Teams<a id='3_leadership_hpt'></a>\n",
    "\n",
    "Organizations often look towards their leaders to: \n",
    "   1. Build high performing teams\n",
    "   2. Attract, develop and retain talent for their teams\n",
    "   3. Build strong succession plan for their teams\n",
    "   \n",
    "Essentially organizations would like to answer the following question:\n",
    "\n",
    "**How can we build and maintain high performing teams?**  \n",
    "\n",
    "To answer this question, we must recognize that in order to build high performance teams, we need the right culture within an organization, and in order to create the right culture, we need the right leaders.\n",
    "\n",
    "**To create and maintain high performance teams, we need leaders who can foster a high performance culture that attracts, develops and retains talent for the organization**\n",
    "\n",
    "As you can see, building high performance teams starts with the organization's leaders as the foundational building block. What we absolutely want to avoid is having leaders who foster a low performance culture that repels talent and thus starves the organization of the people needed to be part of a high performance team.\n",
    "\n",
    "**This is why to answer this question we start with outlining my leadership principles that we want leaders to personify, as this is the foundation for building high performance teams.**\n",
    "    "
   ]
  },
  {
   "cell_type": "markdown",
   "metadata": {},
   "source": [
    "## 3.1 David Lam's Leadership Principles<a id='3.1_leadership_principles'></a>\n",
    "\n",
    "David Lam's Leadership Principles consists of 3 parts. The first part speaks to the *Mindset* we want our leaders to possess. The second part outlines the *Operating Principles* that leaders have to instill within their teams, and finally, the last part consists of the *Leadership Requirements* that a leader needs to meet in order to be effective.\n",
    "\n",
    "Leaders who demonstrate these Leadership Principles will have the tools necessary to create a high performance culture that starts with them and spreads to junior leaders and the entire team. This high performance culture acts as a magnet for talent and creates a vituous cycle that attracts, develops and retains talent that can be exported to other parts of the organization.\n",
    "\n",
    "The principles laid out below are taken from the book: **Extrememe Ownership: How U.S. Navy SEALS Lead and Win by Jocko Willink and Leif Babin**\n",
    "\n",
    "I would recommend this book to anyone who is in a leadership position or would like to take on a leadership position. On my teams, reading Extreme Ownership is mandatory for all people leaders."
   ]
  },
  {
   "cell_type": "markdown",
   "metadata": {},
   "source": [
    "### 3.1.1 Part I: Leadership Mindset<a id='3.1.1_leadership_mindset'></a>\n",
    "\n",
    "If developing a high performance team starts with leadership, than leadership starts with having the right Mindset. Leaders who do not possess the right mindset are doomed to fail and worse, through example they spread their poor mindset across the team and eventually the entire organization. Therefore it is extremely important to instill, foster and require those who are looking to work in leadership positions to demonstrate the below Leadership Mindset.\n",
    "\n",
    "It is not only leaders of the organization who should demonstrate this mindset, it should be required from everyone in an organization, including the frontline staff. Only those individuals who possess and can demonstrate every aspect of the Leadership mindset, can be considered for a leadership position."
   ]
  },
  {
   "cell_type": "markdown",
   "metadata": {},
   "source": [
    "#### 3.1.1.1 Extreme Ownership <a id=3.1.1.1_extreme_ownership></a> "
   ]
  },
  {
   "cell_type": "markdown",
   "metadata": {},
   "source": [
    "* On any team, in any organization, all responsibility for success and failure rests with the leader. *The leader must own everything in his or her world*. There is no one else to blame. The leader must acknowledge mistakes and admit failures, take ownership of them, and develop a plan to win.\n",
    "\n",
    "\n",
    "* The best leaders don't just take responsibility for their job, they take Extreme Ownership of everything that ipacts their mission. This fundamental core concept enables leaders to lead high-performing teams in extraordinary cirumstances and win.\n",
    "\n",
    "\n",
    "* When subordinates aren't doing what they should, leaders that exercise Extreme Ownership cannot blame subordintes. They must first look inthe mirror at themselves. The leader bears full responsibility for explaining the strategic mission, developing tactics, and securing the training and resources to enable the team to properly and successfully execute.\n",
    "\n",
    "\n",
    "* If an individual on the team is not performing at the level required for the team to succeed, the leader must train and mentor that underperformer. If the underperformer continually fails to meet standards, then a leader who exercises Extreme Ownership must be loyal to the team, organization and mission above any individual. If underperformers cannot improve, the leader must make the tough call to terminate them and hire others who can get the job done. This is all on the leader.\n",
    "\n",
    "\n",
    "* Extreme Ownership requires leaders to look at an organization's problems. through the objective lens of reality, without emotional attachments to agendas or plans. It mandates that a leader set ego aside, accept responsibility for failures, attack weaknesses, and consistently work to build a better and more effective team.\n",
    "\n",
    "\n",
    "* Leaders do not take credit for the team's successse but bestows that honor upon his subordinate leaders and team members. When a leader sets such an example and expects this from junior leaders within the team, the mindset develops into the team's culture at every level. Junior leaders take charge of their smaller teams and their piece of the mission. Efficciency and effectiveness increase exponentially and a high-performance, winning team is the result."
   ]
  },
  {
   "cell_type": "markdown",
   "metadata": {},
   "source": [
    "#### 3.1.1.2 No Bad Teams, Only Bad Leaders <a id=3.1.1.2_no_bad_teams></a> "
   ]
  },
  {
   "cell_type": "markdown",
   "metadata": {},
   "source": [
    "* No Bad Teams, Only Bad Leaders is an essential mind-set to building a high-performance, winning team. The recognition that there are no bad teams only bad leaders facilitates Extreme Ownership and enables leaders to build high-performance teams that dominate.\n",
    "\n",
    "\n",
    "* When leaders who epitomize Extreme Ownership drive their teams to achieve a higher standard of performance, they must recognize that when it comes to standards, as a leader, *it's not what you preach, it's what you tolerate.*\n",
    "\n",
    "\n",
    "* When setting expectations, no matter what has been said or written, if subtandard performance is accepted and no one is held accountable- if there are no consequences - that poor performance becomes the new standard. Therefore, leaders must enforce standards and ensure that tasks are repeated until the higher expected standard is achieved.\n",
    "\n",
    "\n",
    "* The leader must pull the different elements within the team together to support one another, with all focused exclusively on how to best accomplish the mission. Teams need a forcing function to get the different members working together to accomplish the mission and that is what leadership is all about.\n",
    "\n",
    "\n",
    "* Once a culture of Extreme Ownership is built into the team at every level, the entire team performs well, and performance continues to improve, even when a strong leader is temporarily removed from the team.\n",
    "\n",
    "\n",
    "* Leaders should never be satisfied. They must always strive to improve, and they must build that mind-set into the team. They must face the facts through a realistic, brutally honest assessment of themselves and their team's performance. Identifying weaknesses, good leaers seek to strengthen them and come up with a plan to overcome challenges.\n",
    "\n",
    "\n",
    "* The best teams anywhere are constantly looking to improve, add capability, and push the standards higher. It starts with the individual and spreads to each of the team members until this ecomes the culture, the new standard.\n"
   ]
  },
  {
   "cell_type": "markdown",
   "metadata": {},
   "source": [
    "#### 3.1.1.3 Believe <a id=3.1.1.3_believe></a> "
   ]
  },
  {
   "cell_type": "markdown",
   "metadata": {},
   "source": [
    "* In order to convince and inspire others to follow and accomplish a mission, a leader must be a *true believer* in the mission. If a leader does not believe, he or she will not take the risks required to overcome the inevitable challenges necessary to win.\n",
    "\n",
    "\n",
    "* Leaders must always operate with the understanding that they are part of something greater than themselves and their own personal interests. They must impart this understanding to their teams. Far more important than training or equipment, a resolute belief in the mission is critical for any team or organization to win and achieve big results.\n",
    "\n",
    "\n",
    "* Every leader must be able to detach from the immediate tactical mission and understand how it fits into strategic goals. When leaders receive an order that they question and do not understand, they must ask the question: why?\n",
    "\n",
    "\n",
    "* The leader must explain not just what to do but why. It is the responsibility of the subordinate leader to reach out and ask if they do not understand. Only when leaders at all levels understand and believe in the mission can they pass that understanding and belief to their teams so that they can persevere through challenges, execute and win."
   ]
  },
  {
   "cell_type": "markdown",
   "metadata": {},
   "source": [
    "#### 3.1.1.4 Check the Ego <a id=3.1.1.4_check_ego></a> "
   ]
  },
  {
   "cell_type": "markdown",
   "metadata": {},
   "source": [
    "* Ego clouds and disrupts everything: the planning process, the ability to take good advice, and the ability to accept constructive criticism. It can even stifle someone's sense of self-preservation. Often, the most difficult ego to deal with is *your own*.\n",
    "\n",
    "\n",
    "* When personal agendas become more important than the team and the overarching mission's success, performance suffers and failure ensues. Many of the disruptive issues that arise within any team can be attributed directly to a problem with ego.\n",
    "\n",
    "\n",
    "* Admitting mistakes, taking ownership, and developing a plan to overcome challenges are integral to any successful team. Ego can prevent a leader from conducting an honest, realistic assessment of his or her own performance and the performance of the team."
   ]
  },
  {
   "cell_type": "markdown",
   "metadata": {},
   "source": [
    "### 3.1.2 Part II: Operating Principles<a id='3.1.2_operating_principles'></a>"
   ]
  },
  {
   "cell_type": "markdown",
   "metadata": {},
   "source": [
    "#### 3.1.2.1 Cover and Move <a id=3.1.2.1_cover_move></a> "
   ]
  },
  {
   "cell_type": "markdown",
   "metadata": {},
   "source": [
    "* Cover and Move is the most fundamental tactic and simply means teamwork. All elements within the greater team are crucial and must work together to accomplish the mission, mutually supporting one another for that singular purpose. Departments and groups within the team must break down silos, depend on each other and understand who depends on them. If they forsake this principle and operate independently or work against each other, the results can be catastrophic to the overall team's performance.\n",
    "\n",
    "\n",
    "* Within any team, there are divisions that arise. This creates friction that inhibits the overall team's performance. It falls on leaders to continually keep perspective on the strategic mission and remind the team that they are part of the greater team and the strategic mission is paramount.\n",
    "\n",
    "\n",
    "* Each member of the team is critical to success, though the main effort and supporting efforts must be clearly identified. If the overall team fails, everyone fails, even if a specific member or an element within the team did their job successfully. \n",
    "\n",
    "\n",
    "* Pointing fingers and placing blame on others contribtes to further dissension beetween teams and individuals. Teams must instead find a way to work together, communicate with each other and mutually support one another. The focus must always be on how to best accomplish the mission.\n",
    "\n",
    "\n",
    "* Team members, departments, and supporting assets must always Cover and Move - help each other, work *together*, and support each other to win."
   ]
  },
  {
   "cell_type": "markdown",
   "metadata": {},
   "source": [
    "#### 3.1.2.2 Simple <a id=3.1.2.2_simple></a> "
   ]
  },
  {
   "cell_type": "markdown",
   "metadata": {},
   "source": [
    "* Simplifying plans as much as possible is crucial to success. When plans and instructions are too complicated, people may not understand them. When things inevitably go wrong, complexity compounds issues that can spiral out of control into total disaster.\n",
    "\n",
    "\n",
    "* Plans must be communicated in a manner that is simple, clear and concise so everyone that is part of the mission must know and understand his or her role in the mission, and what to do in the event of likely contingencies.\n",
    "\n",
    "\n",
    "* As a leader, if the team doesn't get it, you have not kept things simple and you have failed. You must brief to ensure the lowest common denominator on the team understands.\n",
    "\n",
    "\n",
    "* It is critical that the operating relationship facilitate the ability of the frontline workers to ask questions when they do not understand the mission or key tasks to be performed. Leaders must encourage this communication and take the time to explain so that every member of the team understands.\n",
    "\n",
    "\n",
    "* it is critical to keep plans and communication simple. Following this rule is crucial to the success of any team."
   ]
  },
  {
   "cell_type": "markdown",
   "metadata": {},
   "source": [
    "#### 3.1.2.3 Prioritize and Execute <a id=3.1.2.3_prioritize_execute></a> "
   ]
  },
  {
   "cell_type": "markdown",
   "metadata": {},
   "source": [
    "* While working, countless problems compound in a snowball effect, every challenge complex in its own right, each demanding attention. A leader must remain calm and make the best decisions possible. To do this, we utilize the concept of Prioritize and Execute. We verbalize this principle with this direction: 'Relax, look around, make a call\"\n",
    "\n",
    "\n",
    "* When overwhelmed with the number of problems or tasks that need to be completed, fall back on the principle of Prioritize and Execute or risk failing at all tasks.\n",
    "\n",
    "\n",
    "* A particularly effective means to help Prioritize and Execute under pressue is to stay at least a step or two ahead of real-time problems. Through careful contingency planning, a leader can anticipate likely challenges that could arise during execution and map out an effective response to those challenges before they happen. \n",
    "\n",
    "\n",
    "* Staying ahead of the curve prevents a leader from being overwhelmed when pressue is applied and enables greater decisiveness. If the team has been briefed and understands what actions to take through such likely contingencies, the team can then rapidly execute when those problems arise, even without specific direction from leaders.\n",
    "\n",
    "\n",
    "* When confronted with the enormity of operational plans, it becomes easy to get lost in the details, to become sidetracked or lose focus on the bigger effort. It is crucial for leaders to step back and maintain the strategic picture. This is essential to help correctly prioritize for the team. With this perspective, it becomes far easier to determine the highest priority effort.\n",
    "\n",
    "\n",
    "* Priorities can rapidly change and shift. When this happens, communication of that shift to the rest of the team, both up and down the chain of command is critical. The team must maintain the ability to quickly reprioritize efforts and rapidly adpapt to a constantly changing situation.\n",
    "\n",
    "\n",
    "* To implement Prioritize and Execute in any business, team, or organization, a leader must: \n",
    "    * evaluate the highest priority problem. \n",
    "    * lay out in simple, clear, and concise terms the highest priority effort for your team. \n",
    "    * develop and determine a solution, seek input from key leaders and from the team where possible. \n",
    "    * direct the execution of that solution, focusing all efforts and resources toward this priority task. \n",
    "    * move on to the next highest priority problem. Repeat. \n",
    "    * when priorities shift within the team, pass situational awareness both up and down the chain. \n",
    "    * don’t let the focus on one priority cause target fixation. Maintain the ability to see other problems    developing and rapidly shift as needed."
   ]
  },
  {
   "cell_type": "markdown",
   "metadata": {},
   "source": [
    "#### 3.1.2.4 Decentralized Command <a id=3.1.2.4_decentralized_command></a> "
   ]
  },
  {
   "cell_type": "markdown",
   "metadata": {},
   "source": [
    "* Human beings are generally not capable of managing more than 6 to 10 people, particularly when things go sideways and inevitable contingencies arise. No one senior leader can be expected to manage dozens of individuals, much less hundreds. Teams must be broken down into manageable elements of four to five operators, wich a clearly designated leader. Those leaders must understand the overall mission and intent of the senior leader and organization.\n",
    "\n",
    "\n",
    "* Every tactical-level team leader must understand *not just what to do but why they are doing it*. If frontline leaders do not understand why, they must asktheir boss to clarify the why. This ties in closely with Beleive from the Leadership Mindset.\n",
    "\n",
    "\n",
    "* Junior leaders must fully understand what is within their decision-making authority, the left and right limits of their responsibility. They must communicate with senior leaders to recommend decisions outside their authority and pass critical information up the chain so the senior leader can make informed strategic decisions.\n",
    "\n",
    "\n",
    "* Leaders are expected to figure out what needs to be done and do it - to tell higher authority what they plan to do, rather than ask \"what do you want me to do?\" Junior leaders must be proactive rather than reactive.\n",
    "\n",
    "\n",
    "* Frontline leaders must be confident that they clearly understand the strategic mission and objective. They must have implicit trust that their senior leaders will back their decisions. Without this trust, junior leaders cannot confidently execute, which means they cannot exercise effective Decentralized Command.\n",
    "\n",
    "\n",
    "* To ensure this is the case, senior leaders must constantly communicate and push information to their subordinate leaders so they have situation awareness. Similarly, junior leaders must push situational awareness up the chain to their senor leaders to keep them informed, particularly of crucial information that affects strategic decision making.\n",
    "\n",
    "\n",
    "* There are leaders who try to take on too much themselves, when this occurs, operations can quickly dissolve into chaos The fix is to empower frontline leaders through Decentralized Command and ensure they are running t heir teams to support the overall mission, without micromanagement from the top.\n",
    "\n",
    "\n",
    "* Likewise, other senior leaders who are so far removed from the frontline that they become ineffectibe. These leaders might give the appearance of control, but they actually have no idea what they team members are doing and cannot effectively direct their teams. In the Army, this is called 'battlefield aloofness'. This creates a disconnect between leadership and the team, and such a team will struggle to effectively accomplish their mission.\n",
    "\n",
    "\n",
    "* Leaders must strike a balance between being close enough to the team to avoid battlefield aloofness but not too close to have to micromanage. Leaders are not stuck in any particular position and must be free to move to where they are most needed, which changes depending on the situation."
   ]
  },
  {
   "cell_type": "markdown",
   "metadata": {},
   "source": [
    "### 3.1.3 Part III: Leadership Requirements<a id='3.1.3_leadership_requirements'></a>"
   ]
  },
  {
   "cell_type": "markdown",
   "metadata": {},
   "source": [
    "#### 3.1.3.1 Plan <a id=3.1.3.1_plan></a> \n",
    "\n",
    "There is a saying in the Army: \"No plan survives contact with the enemy.\" It speaks to the fact that you can plan for everything, and even with the best laid plans, something unexpected always reveals itself to complicate things. Does that mean you don't need to plan? Absolutely not. Even though things do not go according to plan, having a well thought out plan with contingencies and clear objectives will remove uncertainty and equip the team to handle the unexpected. This maximizes the probability of success and is why the ability to planning is an important Leadership Requirement."
   ]
  },
  {
   "cell_type": "markdown",
   "metadata": {},
   "source": [
    "* *What's the mission?* Planning begins with mission analysis. Leaders must identify clear directives for the team. A broad and ambiguous mission results in lack of focus, ineffective execution, and mission creep. To prevent this, the mission must be carefully refined and simplified so that it is explicitly clear and specifically focused to achieve the greater strategic vision for which that mission is a part. **The mission must explain the overall purpose and desired result, or \"end state,\" of the operation.** The frontline team members tasked with executing the mission must understand the deeper purpose behind the mission.\n",
    "\n",
    "\n",
    "* Leader's intent is the most iimportant part of the brief. When understood by everyone involved in the execution of the plan, it guides each decision and action on the ground. Example of a leadership intent statement can be found here: https://leadchangegroup.com/4-steps-to-clarify-your-leadership-intent/\n",
    "\n",
    "\n",
    "* Once a course of action is determined, further planning requires detailed information gathering in order to facilitate the development of a thorough plan. it is critical to utilize all assets and lean on the expertise of those in the best position to provide the most accurate and up-to-date information. \n",
    "\n",
    "\n",
    "* Leaders must delegate the planning process down the chain as much as possible to key subordinate leaers. Team leaders within the greater team and frontline, tactical-level leaders must have ownership of their tasks wthin the overall plan and mission. Team participation - even from the most junior personnel- is critical in developing bold, innovative solutions to problem sets. This helps buy-in, helps them understand the reasons behind the plan and better enables them to believe in the mission, which leads to far more effectibe implementation and execution on the ground.\n",
    "\n",
    "\n",
    "* Leaders must be careful not to get bogged down in the details. By maintaining a perspectibe above the microterrain of the plan, the senior leader can better ensure compliance with strategic objectives. Doing so enables senior leaders to \"stand back and be the tactical genius\" - to identify weaknesses or holes in the plan that those immersed in the details might have missed. This enables leaders to fill in those gaps before execution.\n",
    "\n",
    "\n",
    "* Leaders must carefully prioritize the information to be presented in as simple, clear, and concise a format as possible so that participants do not experience information overload. The planning process and breifing must be a forum that encourages discussion, questions, and clarification from even the most junior personnel to ensure their teams understand the plan.\n",
    "\n",
    "\n",
    "* A successful brief leads to a team that understands the startegic mission, the Leaders Intent, the specific mission of the team and the individual roles within that mission. The team will also understand contingencies to challenges that might arise. *The test for a sucessful brief is simple: Do the team and the supporting elements understand it?*\n",
    "\n",
    "\n",
    "* The plan must mitigate identified risks where possible. A good plan must enable the highest chance of success while mitigating as much risk as possible. There are some risks that simply cannot be mitigated, and leaders must instead focus on those risks that actually can be controlled. \n",
    "\n",
    "\n",
    "* The best teams employ constant analysis of their tactics and measure their effectiveness so that they can adapt their methods and implement lessons learned for future missions. While businesses can have their own planning process, it must be standardized so that other departments within the company and supporting assets outside the company can understand and use the same format and terminology.\n",
    "\n",
    "\n",
    "* A leader’s checklist for planning should include the following: \n",
    "\n",
    "    * Analyze the mission. —Understand higher headquarters’ mission, Commander’s Intent, and endstate (the goal). —Identify and state your own Commander’s Intent and endstate for the specific mission. \n",
    "    * Identify personnel, assets, resources, and time available. \n",
    "    * Decentralize the planning process. —Empower key leaders within the team to analyze possible courses of action. • Determine a specific course of action. —Lean toward selecting the simplest course of action. —Focus efforts on the best course of action. \n",
    "    * Empower key leaders to develop the plan for the selected course of action. \n",
    "    * Plan for likely contingencies through each phase of the operation. \n",
    "    * Mitigate risks that can be controlled as much as possible. \n",
    "    * Delegate portions of the plan and brief to key junior leaders. —Stand back and be the tactical genius. \n",
    "    * Continually check and question the plan against emerging information to ensure it still fits the situation. \n",
    "    * Brief the plan to all participants and supporting assets. —Emphasize Commander’s Intent. —Ask questions and engage in discussion and interaction with the team to ensure they understand. \n",
    "    * Conduct post-operational debrief after execution. —Analyze lessons learned and implement them in future planning."
   ]
  },
  {
   "cell_type": "markdown",
   "metadata": {},
   "source": [
    "#### 3.1.3.2 Leading Up and Down the Chain <a id=3.1.3.2_leading_up_and_down_the_chain></a> \n",
    "\n",
    "Many believe that leadership flows from the top down, however for high performance teams, it is important that every member of the team is able to lead up and down the chain, to communicate and address issues whether they come from their immediate superior or direct report. This is why leading up and down the chain is a Leadership Requirement. "
   ]
  },
  {
   "cell_type": "markdown",
   "metadata": {},
   "source": [
    "#### Leading Down the Chain\n",
    "\n",
    "\n",
    "* Any good leader is immersed in the planning and execution of tasks, projects, and operations to move te team toward a strategic goal. Such leaders possess insight into the bigger picture and why specific tasks need to be accomplished. This information does not automatically translate to subordinate leaders and the frontine workers. Therefore the leader must actively communicate this down the chain. \n",
    "\n",
    "\n",
    "* It is critical that both junior and senior leaders have an understanding of each other's role and it is paramount that senior leaders explain to their junior leaders and troops executing the mission how their role contributes to big picture success.\n",
    "\n",
    "\n",
    "* Leaders must routinely communicate with their team members to help them understand their role in the overall mission. Frontline leaders and tropps can then connect the dots between what they do every day - the day-to-day operations - and how that impacts the company's strategic goals. This understanding helps the team members prioritize their efforts in a rapidly changing, dynamic environment. That is leading down the chain of command.\n",
    "\n",
    "\n",
    "#### Leading Up the Chain\n",
    "\n",
    "\n",
    "* If your boss isn't making a decision in a timely maner or providing necessary support for you and your team, don't blame the boss. First, blame yourself. Examine what you can do to better convey the critical information for decisions to be made and support allocated.\n",
    "\n",
    "\n",
    "* Leading up the chain of command requires tactful engagement with the immediate boss to obtain the decisions and support necessary to enable your team to accomplish its mission and ultimately win. To do this, a leader must push situational awareness up the chain of command.\n",
    "\n",
    "\n",
    "* While pushing to make your superior understand what you need, you must also realize that your boss must allocate limited assets and make decisions with the bigger picture in mind. you and your team may not represet the prority effort at that particular time. Or perhaps senior leadership has chosen a different direction. Have the humility to undersatand and accept this.\n",
    "\n",
    "\n",
    "* *One of the most important jobs of any leader is to support your own boss -* your immediate leadership. In any chain of command, the leadership must always present a united front to the troops. A public display of discontent or disagreement with the chain of command undermines the authority of leaders at all levels. This is catastrophic to the performance of any organization.\n",
    "\n",
    "\n",
    "* Leaders in any chain of command will not always agree. But at the end of the day, once the debate on a particular course of action is over and the boss has made a decision - even if that decision is one you argued against - you must execute the plan *as if it were your own*.\n",
    "\n",
    "\n",
    "* If your leader is not giving the support you need, dn't blame him or her. Instead, re-examine what you can do to better clarify, educate, influence, or convince that person to give you what you need in order to win.\n",
    "\n",
    "\n",
    "* The major factors to be aware of when leading up and down the chain of command are these: \n",
    "    * Take responsibility for leading everyone in your world, subordinates and superiors alike. \n",
    "    * If someone isn’t doing what you want or need them to do, look in the mirror first and determine what you can do to better enable this. \n",
    "    * Don’t ask your leader what you should do, tell them what you are going to do."
   ]
  },
  {
   "cell_type": "markdown",
   "metadata": {},
   "source": [
    "#### 3.1.3.3 Decisiveness amid Uncertainty<a id=3.1.3.3_decisiveness_amid_uncertainty></a>\n",
    "\n",
    "An important Leadership Requirement is the ability to be decisive amid uncertainty. They need to have the courage to make decisions even if it does not lead to the optimal outcome. As part of this Leadership Requirement, senior leaders must also foster an environment of psycological safety so their junior leaders can learn how to meet this requirement."
   ]
  },
  {
   "cell_type": "markdown",
   "metadata": {},
   "source": [
    "* It is critical for leaders to act decisively amid uncertainty: to make the best decisions they can based on only the immediate information available. There is no 100% right solution. The picture is never complete. Leaders must be comfortable with this and be able to make decisions promtply, then be ready to adjust those decisions quickly based on evolving situations and new information.\n",
    "\n",
    "\n",
    "* Intelligence gathering and reasearch are important, but they must be employed with realistic expectations and must not impede swift decision making that is often the difference between success and failure.\n",
    "\n",
    "\n",
    "* Waiting for the 100 percent right and certain solution leads to delay, indecision, and inability to execute. Leaders must be prepared to make an educated guess based on previous experience, knowledge of how things operate, likely outcomes, and whatever intelligence is available in the immediate moment. Leaders should also consult fellow leaders and leverage any resource available to help them make the best decision possible.\n",
    "\n",
    "\n",
    "* Outcomes are never certain: success never guaranteed. Even so, business leaders must be comfortable in the chaos and act decisively amid such uncertainty."
   ]
  },
  {
   "cell_type": "markdown",
   "metadata": {},
   "source": [
    "#### 3.1.3.4 Discipline Equals Freedom - The Dichotomy of Leadership<a id=3.1.3.4_discipline_equals_freedom></a> \n",
    "\n",
    "Every leader must walk a fine line. That's what makes leadership so challenging. Just as discipline and freedom are opposing forces that must be balanced, leadership requires finding the equilibrium in the dichotomy of many seemingly contradictory qualities, between one extreme and another. The simple recognition of this is one of the most powerful tools a leader has. The requirement from leaders is that they continually find balance in the various dichotomies of leadership."
   ]
  },
  {
   "cell_type": "markdown",
   "metadata": {},
   "source": [
    "* A leader must lead but also be ready to follow. Sometimes, another member of theteam - perhaps a subordinate or direct report - might be in a better position to develop a plan, make a decision, or lead through a specific situation. Good leaders must welcome this, putting aside ego and personal agendas to ensure that the team has the greatest chance of accomplishing its strategic goals. \n",
    "\n",
    "\n",
    "* A true leader is not intimidated when others step up and take charge. leaders that lack confidence in themselves fear being outshined by someone else. If the team is successful, then recognition will come for those in charge, but a leader should not seek that recognition. A leader must be confident enough to follow someone else when the situation calls for it.\n",
    "\n",
    "\n",
    "* A leader must be aggressive but not overbearing. They must ensure that everyone below them in the chain of command felt comfortable approaching them with concerns, ideas, thoughts, and even disagreements. If they felt something was wrong or thought there was a better way to execute, leaders encourage their team, regarldess of rank, to come with questions and present an opposing view.\n",
    "\n",
    "\n",
    "* A leader must be calm but not robotic. It is normal - and necessary- to show emotion. The team must understand that their leader cares about them and their wellbeing. But, a leader must control his or her emotions. If not, how can they expect to control anything else? Leaders who lose their temper also lose respect. But, at the same time, to never show any sense of anger, sadness, or frustration would make that leader appear void of any emotion at all - a robot. People do not follow robots.\n",
    "\n",
    "\n",
    "* A leader must be confident but never cocky. Confidence is contagious, a great attribute for a leader and a team. But when it goes too far, overconfidence causes complacency and arrogance, which ultimately set the team up for failure.\n",
    "\n",
    "\n",
    "* A leader must be brave but not foolhardy. He or she must be willing to accept risk and act courageously, but must never be reckless. it is a leader's job to always mitigate as much as possible those risks that can be controlled to accomplish the mission without sacrificing the team or excessively expending critical resources.\n",
    "\n",
    "\n",
    "* Leaders must have a competitive spirit but also be gracious losers. They must drive competition and push themselves and their teams to perform at the highest level. But they must never put their own drive for personal success ahead of overall mission success for the greater team. Leaders must act with professionalism and recognize others for their contributions.\n",
    "\n",
    "\n",
    "* A leader must be attentive to details but not obsessed by them. A good leader does not get bogged down in the minutia of a tactical problem at the expense of strategic success. he or she must monitor and check the team's progress in the most critical tasks. But that leader cannot get sucked into the details and lose track of the bigger picture.\n",
    "\n",
    "\n",
    "* A leader must be strong but likewise have endurance, not only physically but mentally. he or she must maintain the ability to perform at the highest level and sustain that level for the long term. Leaders must recognize limitations and know to pace themselves and their teams so that they can maintain a solid performance indefinitely.\n",
    "\n",
    "\n",
    "* Leaders must be humble but not passive; quiet but not silent. They must possess humility and the ability to control their ego and listen to others. They must admit mistakes and failures, take ownership of them, and figure out a way to prevent them from happening again. But a leader must be able to speak up when it matters. THey must be able to stand up for the team and respectfully push back against a decision, order, or direction that could negatively impact overall mission success. \n",
    "\n",
    "\n",
    "* A leader must be close with subordinates but not too close. The best leaders understand the motivations of their team members and how. their people - their lives and their families. But a leader must never grow so close to subordinates that one member of theteam becomes more important than another, or more important than the mission itself. Leaders must never get so close that the team forgets who is in charge.\n",
    "\n",
    "\n",
    "* A leader must exercise Extreme Ownership and simultaneously employ Decentralized Command by giving control to subordinate leaders.\n",
    "\n",
    "\n",
    "* A leader has nothing to prove but everything to prove. A good leader does not gloat or revel in his or her position. A team understands that the leader is de facto in charge and in that respect, a leader has nothing to prove. But in another respect, a leader has everythingto prove: every member of the team must develop the trust and confidence that their leader will exercise good judgementm remain calm, and make the right decisions when it matters most. Leaders must earn that respect and prove themselves worthy, demonstrating through action thatthey will take care of the team and look out for their long-term interests and well-being. In that respect, a leader has everything to prove.\n",
    "\n",
    "\n",
    "* The Dichotomy of Leadership A good leader must be: \n",
    "\n",
    "    * confident but not cocky; • courageous but not foolhardy; \n",
    "    * competitive but a gracious loser; \n",
    "    * attentive to details but not obsessed by them; \n",
    "    * strong but have endurance; \n",
    "    * a leader and follower; \n",
    "    * humble not passive; \n",
    "    * aggressive not overbearing; \n",
    "    * quiet not silent; \n",
    "    * calm but not robotic, logical but not devoid of emotions; \n",
    "    * close with the troops but not so close that one becomes more important than another or more important than the good of the team; not so close that they forget who is in charge. \n",
    "    * able to execute Extreme Ownership, while exercising Decentralized Command. \n",
    "    * A good leader has nothing to prove, but everything to prove."
   ]
  },
  {
   "cell_type": "markdown",
   "metadata": {},
   "source": [
    "## 3.2 Blueprint for Building High Performance Teams<a id='3.2_blueprint'></a>"
   ]
  },
  {
   "cell_type": "markdown",
   "metadata": {},
   "source": [
    "### 3.2.1 It Starts With Leadership <a id='3.2.1_leadership'></a>"
   ]
  },
  {
   "cell_type": "markdown",
   "metadata": {},
   "source": [
    "* Leaders set the example for the rest of the team in terms of how to behave and what we look for in order to be promoted into a leadership positions. Naturally, team members take their cues from their leaders and emulate them and therefore it is our leaders that shape the culture of the team and organization.\n",
    "\n",
    "\n",
    "* Therefore the first step to building a high performance team starts with ensuring our leaders set the right example. How do we do that? Through the organization leading by example and setting the right expectations and standards for current and aspiring leaders of all levels:\n",
    "\n",
    "    1. Leaders must show that they embrace, embody and teach the Leadership Principles outlined above. Only those that consistently demonstrate that they can adhere to all aspects of the Leadership Principles would be considered for leadership positions. By making this a requirement for progression within the team and organization we ensure that we build a high performance culture from the top down.\n",
    "     \n",
    "    2. Leaders must possess a growth mindset. They must set the example for the team by searching and pushing for continuous improvement and learning. They must challenge the team to improvise, adapt and overcome when the team encounters a challenge and must encourage the team to have an open mind. A leader must never accept the response \"We don't need to change as this is the way we have always done it\" and instead encourage the team to say \"If it isn't broken, break it and make it better.\"\n",
    "    \n",
    "    3. Leaders must create an environment of psycological safety where the team is free express their views, ideas, questions and concerns without fear of negative consequences.\n",
    "    \n",
    "    \n",
    "* To ensure that these standards are met, and the proper behaviours are encouraged across the team, they must be built into every team members performance appraisal. Leaders will be held to a higher standard but non leaders are expected to adhere to the Leadership principles as well. They are also expected to also have a growth mindset and help faciliate an environment of psycological safety.\n",
    "    "
   ]
  },
  {
   "cell_type": "markdown",
   "metadata": {},
   "source": [
    "### 3.2.2 Building the Team <a id='3.2.2_building_team'></a>"
   ]
  },
  {
   "cell_type": "markdown",
   "metadata": {},
   "source": [
    "* We discussed the qualities that an individual must possess to be promoted to a people management position. These qualities are non negotiable and individuals who do not meet this requirement should not be promoted. Leaders can work with individuals to develop these qualities, but until the individual can meet this requirement they cannot be put in charge of leading and managing people. The damange that people managers who do not meet the standard are wide reaching as their substandard example spreads across the organization. It is important to note that not anyone can be leader and when the requirements are clearly aritculated, not everyone may want to be a people leader.\n",
    "\n",
    "\n",
    "* For high performing individuals who do not want to be a leader or who do not meet the standard, we need to develop a different career path for them to ensure we retain talent. In some organizations, the only way an individual can earn more is to move into leadership positions. This cannot be the case, as there needs to be a non-people leader path for high performing talent to earn more. This is where a growth mindset comes in. For talent that has reached their ceiling, they should be encouraged to cross train and learn additional functions and skills to support the team. Cross training across all team members ensures business continuity and provides talented individuals an opportunity to learn and grow without the pressures that come with leadership.\n",
    "\n",
    "\n",
    "* On the topic of business continuity, for all members of the team including leaders, a requirement for promotion must be that they can train another team member on how to do all functions of their position. Only when a team member can fully step away from their current role can they be promoted to the next. This ensures that knowledge required to perform a function is fully passed to the next individual and it demonstrates that the individual who is up for promotion can train other team members. This requirement includes leaders as well. Only when the Leader can fully step away and their team still continues to function without any problems can they be promoted or moved to other positions. **A Leader's criteria for further promotion is to be able to render themselves obsolete through team training and development.**"
   ]
  },
  {
   "cell_type": "markdown",
   "metadata": {},
   "source": [
    "### 3.2.3 Benefits of the Culture <a id='3.2.3_benefits_culture'></a>"
   ]
  },
  {
   "cell_type": "markdown",
   "metadata": {},
   "source": [
    "* Attracting, Developing and Retaining talent is important for all organizations, especially now when companies are fighting to fill positions and competition for talent is fierce. We have discussed how our Leaders are expected to behave to set the example for junior members to help their development. We have also talked about how performance standards and  promotion process encourages a growth mindset, create opportunities for development through cross training. When successfully implemented and executed, this blueprint for creating high performance teams acts as a magnet for attracting talent. We can speak with candidates with transparency on what is required to be promoted and become leaders within the organization, we can talk about how our teams encourage growth and psycological safety. We can show that our Leaders are vested in their development and growth and it is part of their job to ensure that this happens. This is a very powerful value proposition to attract talent.\n",
    "\n",
    "\n",
    "* When we successfully execute the Blueprint and have Leaders and junior members embodying the Leadership Principles, encouraging a growth mindset and thriving in a environment of psycological safety, we create a work environment that is very difficult to leave. The same way it serves as a magnet to attract new talent, it serves as a magnet to keep talent."
   ]
  },
  {
   "cell_type": "markdown",
   "metadata": {},
   "source": [
    "### 3.2.4 Let's Talk <a id='3.2.4_lets_talk'></a>"
   ]
  },
  {
   "cell_type": "markdown",
   "metadata": {},
   "source": [
    "I have provided a breif glimpse into my process for creating high performance teams. This is a very complex challenge and what we have discussed is only the beginning. If you would like to dig deeper into this topic and have a discussion to share ideas, please feel free to reach out to me at Lamhdavid@gmail.com"
   ]
  },
  {
   "cell_type": "code",
   "execution_count": null,
   "metadata": {},
   "outputs": [],
   "source": []
  }
 ],
 "metadata": {
  "kernelspec": {
   "display_name": "Python 3",
   "language": "python",
   "name": "python3"
  },
  "language_info": {
   "codemirror_mode": {
    "name": "ipython",
    "version": 3
   },
   "file_extension": ".py",
   "mimetype": "text/x-python",
   "name": "python",
   "nbconvert_exporter": "python",
   "pygments_lexer": "ipython3",
   "version": "3.7.6"
  }
 },
 "nbformat": 4,
 "nbformat_minor": 4
}
