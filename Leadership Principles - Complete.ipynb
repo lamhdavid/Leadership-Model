{
 "cells": [
  {
   "cell_type": "markdown",
   "metadata": {},
   "source": [
    "# David Lam's Leadership Principles and Blueprint for Building High Performance Teams"
   ]
  },
  {
   "cell_type": "markdown",
   "metadata": {},
   "source": [
    "## Contents <a id='Contents'></a>\n",
    "        \n",
    "* [1. David Lam's Leadership Principles and Blueprint for Building High Performance Teams](#1_leadership_hpt)\n",
    "    * [1.1 David Lam's Leadership Principles](#1.1_leadership_principles)\n",
    "        * [1.1.1 Part I: Leadership Mindset](#1.1.1_leadership_mindset)\n",
    "            * [1.1.1.1 Extreme Ownership](#1.1.1.1_extreme_ownership)\n",
    "            * [1.1.1.2 No Bad Teams, Only Bad Leaders](#1.1.1.2_no_bad_teams)\n",
    "            * [1.1.1.3 Believe](#1.1.1.3_believe)\n",
    "            * [1.1.1.4 Check the Ego](#1.1.1.4_check_ego)\n",
    "        * [1.1.2 Part II: Operating Principles](#1.1.2_operating_principles)\n",
    "            * [1.1.2.1 Cover and Move](#1.1.2.1_cover_move)\n",
    "            * [1.1.2.2 Simple](#1.1.2.2_simple)\n",
    "            * [1.1.2.3 Prioritize and Execute ](#1.1.2.3_prioritize_execute)\n",
    "            * [1.1.2.4 Decentralized Command](#1.1.2.4_decentralized_command)\n",
    "        * [1.1.3 Part III: Leadership Requirements](#1.1.3_leadership_requirements)\n",
    "            * [1.1.3.1 Plan](#1.1.3.1_plan)\n",
    "            * [1.1.3.2 Leading Up and Down the Chain](#1.1.3.2_leading_up_and_down_the_chain)\n",
    "            * [1.1.3.3 Decisiveness amid Uncertainty](#1.1.3.3_decisiveness_amid_uncertainty)\n",
    "            * [1.1.3.4 Discipline Equals Freedome - The Dichotomy of Leadership](#1.1.3.4_discipline_equals_freedom)\n",
    "    * [3.2 Blueprint for Building High Performance Teams](#3.2_blueprint)\n",
    "        * [3.2.1 It Starts with Leadership](#3.2.1_leadership)\n",
    "        * [3.2.2 Building the Team](#3.2.2_building_team)\n",
    "        * [3.2.3 Benefits of the Culture](#3.2.3_benefits_culture)\n",
    "        * [3.2.4 Let's Talk](#3.2.4_lets_talk)"
   ]
  },
  {
   "cell_type": "markdown",
   "metadata": {},
   "source": [
    "## 1.1 David Lam's Leadership Principles<a id='1.1_leadership_principles'></a>\n",
    "\n",
    "Having served in the Canadian Army for over 9 years and have managed teams for nearly 10 years in the financial industry, I have had the privilege of working with some amazing leaders and the opportunity to learn from some leaders who were not well placed. The Leadership Principles outlined here is based on this experience and provides a north star for how all Leaders should behave and the standard they should hold themselves up to.  \n",
    "\n",
    "David Lam's Leadership Principles consists of 3 parts. The first part speaks to the *Mindset* we want our leaders to possess. The second part outlines the *Operating Principles* that leaders have to instill within their teams, and finally, the last part consists of the *Leadership Requirements* that a leader needs to meet in order to be effective.\n",
    "\n",
    "Leaders who can consistently demonstrate and embody these Leadership Principles will have the tools necessary to create a high performance culture that starts with them, and spreads to junior leaders and eventually the entire team. This high performance culture acts as a magnet for talent and creates a vituous cycle that attracts, develops and retains talent that can be exported to other parts of the organization and expands the high performance culture.\n",
    "\n",
    "The principles laid out below are taken from the book: **Extrememe Ownership: How U.S. Navy SEALS Lead and Win by Jocko Willink and Leif Babin.** These principles were consistent with what I learned during my experience in the Canadian Army and is very well articulated in **Extreme Ownership**.\n",
    "\n",
    "I would recommend this book to anyone who is in a leadership position or would like to take on a leadership role. On my teams, reading Extreme Ownership is mandatory for all team members, especially people leaders."
   ]
  },
  {
   "cell_type": "markdown",
   "metadata": {},
   "source": [
    "### 1.1.1 Part I: Leadership Mindset<a id='1.1.1_leadership_mindset'></a>\n",
    "\n",
    "If developing a high performance team starts with leadership, than leadership starts with having the right **Mindset**. Leaders who do not possess the right mindset are doomed to fail and worse, through example they spread their poor mindset across the team and eventually the entire organization. Therefore it is extremely important to instill, foster and require those who are looking to move into a leadership position to demonstrate the below Leadership Mindset.\n",
    "\n",
    "Furthermore, in addition to Leaders, everyone in an organization, including the frontline staff should be required to demonstrate this mindset. Only those individuals who possess and can demonstrate every aspect of the Leadership mindset, can be considered for a leadership position."
   ]
  },
  {
   "cell_type": "markdown",
   "metadata": {},
   "source": [
    "#### 1.1.1.1 Extreme Ownership <a id=1.1.1.1_extreme_ownership></a> "
   ]
  },
  {
   "cell_type": "markdown",
   "metadata": {},
   "source": [
    "* On any team, in any organization, all responsibility for success and failure rests with the leader. *The leader must own everything in his or her world*. There is no one else to blame. The leader must acknowledge mistakes and admit failures, take ownership of them, and develop a plan to win.\n",
    "\n",
    "\n",
    "* The best leaders don't just take responsibility for their job, they take Extreme Ownership of everything that ipacts their mission. This fundamental core concept enables leaders to lead high-performing teams in extraordinary cirumstances and win.\n",
    "\n",
    "\n",
    "* When subordinates aren't doing what they should, leaders that exercise Extreme Ownership cannot blame subordintes. They must first look inthe mirror at themselves. The leader bears full responsibility for explaining the strategic mission, developing tactics, and securing the training and resources to enable the team to properly and successfully execute.\n",
    "\n",
    "\n",
    "* If an individual on the team is not performing at the level required for the team to succeed, the leader must train and mentor that underperformer. If the underperformer continually fails to meet standards, then a leader who exercises Extreme Ownership must be loyal to the team, organization and mission above any individual. If underperformers cannot improve, the leader must make the tough call to terminate them and hire others who can get the job done. This is all on the leader.\n",
    "\n",
    "\n",
    "* Extreme Ownership requires leaders to look at an organization's problems. through the objective lens of reality, without emotional attachments to agendas or plans. It mandates that a leader set ego aside, accept responsibility for failures, attack weaknesses, and consistently work to build a better and more effective team.\n",
    "\n",
    "\n",
    "* Leaders do not take credit for the team's successse but bestows that honor upon his subordinate leaders and team members. When a leader sets such an example and expects this from junior leaders within the team, the mindset develops into the team's culture at every level. Junior leaders take charge of their smaller teams and their piece of the mission. Efficciency and effectiveness increase exponentially and a high-performance, winning team is the result."
   ]
  },
  {
   "cell_type": "markdown",
   "metadata": {},
   "source": [
    "#### 1.1.1.2 No Bad Teams, Only Bad Leaders <a id=1.1.1.2_no_bad_teams></a> "
   ]
  },
  {
   "cell_type": "markdown",
   "metadata": {},
   "source": [
    "* No Bad Teams, Only Bad Leaders is an essential mind-set to building a high-performance, winning team. The recognition that there are no bad teams only bad leaders facilitates Extreme Ownership and enables leaders to build high-performance teams that dominate.\n",
    "\n",
    "\n",
    "* When leaders who epitomize Extreme Ownership drive their teams to achieve a higher standard of performance, they must recognize that when it comes to standards, as a leader, *it's not what you preach, it's what you tolerate.*\n",
    "\n",
    "\n",
    "* When setting expectations, no matter what has been said or written, if subtandard performance is accepted and no one is held accountable- if there are no consequences - that poor performance becomes the new standard. Therefore, leaders must enforce standards and ensure that tasks are repeated until the higher expected standard is achieved.\n",
    "\n",
    "\n",
    "* The leader must pull the different elements within the team together to support one another, with all focused exclusively on how to best accomplish the mission. Teams need a forcing function to get the different members working together to accomplish the mission and that is what leadership is all about.\n",
    "\n",
    "\n",
    "* Once a culture of Extreme Ownership is built into the team at every level, the entire team performs well, and performance continues to improve, even when a strong leader is temporarily removed from the team.\n",
    "\n",
    "\n",
    "* Leaders should never be satisfied. They must always strive to improve, and they must build that mind-set into the team. They must face the facts through a realistic, brutally honest assessment of themselves and their team's performance. Identifying weaknesses, good leaers seek to strengthen them and come up with a plan to overcome challenges.\n",
    "\n",
    "\n",
    "* The best teams anywhere are constantly looking to improve, add capability, and push the standards higher. It starts with the individual and spreads to each of the team members until this ecomes the culture, the new standard.\n",
    "\n"
   ]
  },
  {
   "cell_type": "markdown",
   "metadata": {},
   "source": [
    "#### 1.1.1.3 Believe <a id=1.1.1.3_believe></a> "
   ]
  },
  {
   "cell_type": "markdown",
   "metadata": {},
   "source": [
    "* In order to convince and inspire others to follow and accomplish a mission, a leader must be a *true believer* in the mission. If a leader does not believe, he or she will not take the risks required to overcome the inevitable challenges necessary to win.\n",
    "\n",
    "\n",
    "* Leaders must always operate with the understanding that they are part of something greater than themselves and their own personal interests. They must impart this understanding to their teams. Far more important than training or equipment, a resolute belief in the mission is critical for any team or organization to win and achieve big results.\n",
    "\n",
    "\n",
    "* Every leader must be able to detach from the immediate tactical mission and understand how it fits into strategic goals. When leaders receive an order that they question and do not understand, they must ask the question: why?\n",
    "\n",
    "\n",
    "* The leader must explain not just what to do but why. It is the responsibility of the subordinate leader to reach out and ask if they do not understand. Only when leaders at all levels understand and believe in the mission can they pass that understanding and belief to their teams so that they can persevere through challenges, execute and win."
   ]
  },
  {
   "cell_type": "markdown",
   "metadata": {},
   "source": [
    "#### 1.1.1.4 Check the Ego <a id=1.1.1.4_check_ego></a> "
   ]
  },
  {
   "cell_type": "markdown",
   "metadata": {},
   "source": [
    "* Ego clouds and disrupts everything: the planning process, the ability to take good advice, and the ability to accept constructive criticism. It can even stifle someone's sense of self-preservation. Often, the most difficult ego to deal with is *your own*.\n",
    "\n",
    "\n",
    "* When personal agendas become more important than the team and the overarching mission's success, performance suffers and failure ensues. Many of the disruptive issues that arise within any team can be attributed directly to a problem with ego.\n",
    "\n",
    "\n",
    "* Admitting mistakes, taking ownership, and developing a plan to overcome challenges are integral to any successful team. Ego can prevent a leader from conducting an honest, realistic assessment of his or her own performance and the performance of the team."
   ]
  },
  {
   "cell_type": "markdown",
   "metadata": {},
   "source": [
    "### 1.1.2 Part II: Operating Principles<a id='1.1.2_operating_principles'></a>\n",
    "\n",
    "Just as the Leadership Mindset provides a north star for how Leaders should behave, the Operating principles serve as a north star for how a team should function and operate. It is the Leaders objective and responsibility to guide their teams to this operating state."
   ]
  },
  {
   "cell_type": "markdown",
   "metadata": {},
   "source": [
    "#### 1.1.2.1 Cover and Move <a id=1.1.2.1_cover_move></a> "
   ]
  },
  {
   "cell_type": "markdown",
   "metadata": {},
   "source": [
    "* Cover and Move is the most fundamental tactic and simply means teamwork. All elements within the greater team are crucial and must work together to accomplish the mission, mutually supporting one another for that singular purpose. Departments and groups within the team must break down silos, depend on each other and understand who depends on them. If they forsake this principle and operate independently or work against each other, the results can be catastrophic to the overall team's performance.\n",
    "\n",
    "\n",
    "* Within any team, there are divisions that arise. This creates friction that inhibits the overall team's performance. It falls on leaders to continually keep perspective on the strategic mission and remind the team that they are part of the greater team and the strategic mission is paramount.\n",
    "\n",
    "\n",
    "* Each member of the team is critical to success, though the main effort and supporting efforts must be clearly identified. If the overall team fails, everyone fails, even if a specific member or an element within the team did their job successfully. \n",
    "\n",
    "\n",
    "* Pointing fingers and placing blame on others contribtes to further dissension beetween teams and individuals. Teams must instead find a way to work together, communicate with each other and mutually support one another. The focus must always be on how to best accomplish the mission.\n",
    "\n",
    "\n",
    "* Team members, departments, and supporting assets must always Cover and Move - help each other, work *together*, and support each other to win."
   ]
  },
  {
   "cell_type": "markdown",
   "metadata": {},
   "source": [
    "#### 1.1.2.2 Simple <a id=1.1.2.2_simple></a> "
   ]
  },
  {
   "cell_type": "markdown",
   "metadata": {},
   "source": [
    "* Simplifying plans as much as possible is crucial to success. When plans and instructions are too complicated, people may not understand them. When things inevitably go wrong, complexity compounds issues that can spiral out of control into total disaster.\n",
    "\n",
    "\n",
    "* Plans must be communicated in a manner that is simple, clear and concise so everyone that is part of the mission must know and understand his or her role in the mission, and what to do in the event of likely contingencies.\n",
    "\n",
    "\n",
    "* As a leader, if the team doesn't get it, you have not kept things simple and you have failed. You must brief to ensure the lowest common denominator on the team understands.\n",
    "\n",
    "\n",
    "* It is critical that the operating relationship facilitate the ability of the frontline workers to ask questions when they do not understand the mission or key tasks to be performed. Leaders must encourage this communication and take the time to explain so that every member of the team understands.\n",
    "\n",
    "\n",
    "* it is critical to keep plans and communication simple. Following this rule is crucial to the success of any team."
   ]
  },
  {
   "cell_type": "markdown",
   "metadata": {},
   "source": [
    "#### 1.1.2.3 Prioritize and Execute <a id=1.1.2.3_prioritize_execute></a> "
   ]
  },
  {
   "cell_type": "markdown",
   "metadata": {},
   "source": [
    "* While working, countless problems compound in a snowball effect, every challenge complex in its own right, each demanding attention. A leader must remain calm and make the best decisions possible. To do this, we utilize the concept of Prioritize and Execute. We verbalize this principle with this direction: 'Relax, look around, make a call\"\n",
    "\n",
    "\n",
    "* When overwhelmed with the number of problems or tasks that need to be completed, fall back on the principle of Prioritize and Execute or risk failing at all tasks.\n",
    "\n",
    "\n",
    "* A particularly effective means to help Prioritize and Execute under pressue is to stay at least a step or two ahead of real-time problems. Through careful contingency planning, a leader can anticipate likely challenges that could arise during execution and map out an effective response to those challenges before they happen. \n",
    "\n",
    "\n",
    "* Staying ahead of the curve prevents a leader from being overwhelmed when pressue is applied and enables greater decisiveness. If the team has been briefed and understands what actions to take through such likely contingencies, the team can then rapidly execute when those problems arise, even without specific direction from leaders.\n",
    "\n",
    "\n",
    "* When confronted with the enormity of operational plans, it becomes easy to get lost in the details, to become sidetracked or lose focus on the bigger effort. It is crucial for leaders to step back and maintain the strategic picture. This is essential to help correctly prioritize for the team. With this perspective, it becomes far easier to determine the highest priority effort.\n",
    "\n",
    "\n",
    "* Priorities can rapidly change and shift. When this happens, communication of that shift to the rest of the team, both up and down the chain of command is critical. The team must maintain the ability to quickly reprioritize efforts and rapidly adpapt to a constantly changing situation.\n",
    "\n",
    "\n",
    "* To implement Prioritize and Execute in any business, team, or organization, a leader must: \n",
    "    * evaluate the highest priority problem. \n",
    "    * lay out in simple, clear, and concise terms the highest priority effort for your team. \n",
    "    * develop and determine a solution, seek input from key leaders and from the team where possible. \n",
    "    * direct the execution of that solution, focusing all efforts and resources toward this priority task. \n",
    "    * move on to the next highest priority problem. Repeat. \n",
    "    * when priorities shift within the team, pass situational awareness both up and down the chain. \n",
    "    * don’t let the focus on one priority cause target fixation. Maintain the ability to see other problems    developing and rapidly shift as needed."
   ]
  },
  {
   "cell_type": "markdown",
   "metadata": {},
   "source": [
    "#### 1.1.2.4 Decentralized Command <a id=1.1.2.4_decentralized_command></a> "
   ]
  },
  {
   "cell_type": "markdown",
   "metadata": {},
   "source": [
    "* Human beings are generally not capable of managing more than 6 to 10 people, particularly when things go sideways and inevitable contingencies arise. No one senior leader can be expected to manage dozens of individuals, much less hundreds. Teams must be broken down into manageable elements of four to five operators, wich a clearly designated leader. Those leaders must understand the overall mission and intent of the senior leader and organization.\n",
    "\n",
    "\n",
    "* Every tactical-level team leader must understand *not just what to do but why they are doing it*. If frontline leaders do not understand why, they must asktheir boss to clarify the why. This ties in closely with Beleive from the Leadership Mindset.\n",
    "\n",
    "\n",
    "* Junior leaders must fully understand what is within their decision-making authority, the left and right limits of their responsibility. They must communicate with senior leaders to recommend decisions outside their authority and pass critical information up the chain so the senior leader can make informed strategic decisions.\n",
    "\n",
    "\n",
    "* Leaders are expected to figure out what needs to be done and do it - to tell higher authority what they plan to do, rather than ask \"what do you want me to do?\" Junior leaders must be proactive rather than reactive.\n",
    "\n",
    "\n",
    "* Frontline leaders must be confident that they clearly understand the strategic mission and objective. They must have implicit trust that their senior leaders will back their decisions. Without this trust, junior leaders cannot confidently execute, which means they cannot exercise effective Decentralized Command.\n",
    "\n",
    "\n",
    "* To ensure this is the case, senior leaders must constantly communicate and push information to their subordinate leaders so they have situation awareness. Similarly, junior leaders must push situational awareness up the chain to their senor leaders to keep them informed, particularly of crucial information that affects strategic decision making.\n",
    "\n",
    "\n",
    "* There are leaders who try to take on too much themselves, when this occurs, operations can quickly dissolve into chaos The fix is to empower frontline leaders through Decentralized Command and ensure they are running t heir teams to support the overall mission, without micromanagement from the top.\n",
    "\n",
    "\n",
    "* Likewise, other senior leaders who are so far removed from the frontline that they become ineffectibe. These leaders might give the appearance of control, but they actually have no idea what they team members are doing and cannot effectively direct their teams. In the Army, this is called 'battlefield aloofness'. This creates a disconnect between leadership and the team, and such a team will struggle to effectively accomplish their mission.\n",
    "\n",
    "\n",
    "* Leaders must strike a balance between being close enough to the team to avoid battlefield aloofness but not too close to have to micromanage. Leaders are not stuck in any particular position and must be free to move to where they are most needed, which changes depending on the situation."
   ]
  },
  {
   "cell_type": "markdown",
   "metadata": {},
   "source": [
    "### 1.1.3 Part III: Leadership Requirements<a id='1.1.3_leadership_requirements'></a>\n",
    "\n",
    "In addition to having the right mindset and creating the right operating environment, Leaders must possess the fundamental skills outlined in the Leadership Requirements section. Much like playing a sport or a musical instrument, once obtained, these leadership skills must continually be refined and developed for a Leader to remain sharpe and effective. Often, a Leaders proficiency in meeting these requirements will determine whether they are able to progress to more senior levels. This is especially true when it comes to managing the various dichotomies of leadership."
   ]
  },
  {
   "cell_type": "markdown",
   "metadata": {},
   "source": [
    "#### 1.1.3.1 Plan <a id=1.1.3.1_plan></a> \n",
    "\n",
    "There is a saying in the Army: \"No plan survives contact with the enemy.\" It speaks to the fact that you can plan for everything, and even with the best laid plans, something unexpected always reveals itself to complicate things. Does that mean you don't need to plan? Absolutely not. Even though things do not go according to plan, having a well thought out plan with contingencies and clear objectives will remove uncertainty and equip the team to handle the unexpected. This maximizes the probability of success and is why the ability to planning is an important Leadership Requirement."
   ]
  },
  {
   "cell_type": "markdown",
   "metadata": {},
   "source": [
    "* *What's the mission?* Planning begins with mission analysis. Leaders must identify clear directives for the team. A broad and ambiguous mission results in lack of focus, ineffective execution, and mission creep. To prevent this, the mission must be carefully refined and simplified so that it is explicitly clear and specifically focused to achieve the greater strategic vision for which that mission is a part. **The mission must explain the overall purpose and desired result, or \"end state,\" of the operation.** The frontline team members tasked with executing the mission must understand the deeper purpose behind the mission.\n",
    "\n",
    "\n",
    "* Leader's intent is the most iimportant part of the brief. When understood by everyone involved in the execution of the plan, it guides each decision and action on the ground. Example of a leadership intent statement can be found here: https://leadchangegroup.com/4-steps-to-clarify-your-leadership-intent/\n",
    "\n",
    "\n",
    "* Once a course of action is determined, further planning requires detailed information gathering in order to facilitate the development of a thorough plan. it is critical to utilize all assets and lean on the expertise of those in the best position to provide the most accurate and up-to-date information. \n",
    "\n",
    "\n",
    "* Leaders must delegate the planning process down the chain as much as possible to key subordinate leaers. Team leaders within the greater team and frontline, tactical-level leaders must have ownership of their tasks wthin the overall plan and mission. Team participation - even from the most junior personnel- is critical in developing bold, innovative solutions to problem sets. This helps buy-in, helps them understand the reasons behind the plan and better enables them to believe in the mission, which leads to far more effectibe implementation and execution on the ground.\n",
    "\n",
    "\n",
    "* Leaders must be careful not to get bogged down in the details. By maintaining a perspectibe above the microterrain of the plan, the senior leader can better ensure compliance with strategic objectives. Doing so enables senior leaders to \"stand back and be the tactical genius\" - to identify weaknesses or holes in the plan that those immersed in the details might have missed. This enables leaders to fill in those gaps before execution.\n",
    "\n",
    "\n",
    "* Leaders must carefully prioritize the information to be presented in as simple, clear, and concise a format as possible so that participants do not experience information overload. The planning process and breifing must be a forum that encourages discussion, questions, and clarification from even the most junior personnel to ensure their teams understand the plan.\n",
    "\n",
    "\n",
    "* A successful brief leads to a team that understands the startegic mission, the Leaders Intent, the specific mission of the team and the individual roles within that mission. The team will also understand contingencies to challenges that might arise. *The test for a sucessful brief is simple: Do the team and the supporting elements understand it?*\n",
    "\n",
    "\n",
    "* The plan must mitigate identified risks where possible. A good plan must enable the highest chance of success while mitigating as much risk as possible. There are some risks that simply cannot be mitigated, and leaders must instead focus on those risks that actually can be controlled. \n",
    "\n",
    "\n",
    "* The best teams employ constant analysis of their tactics and measure their effectiveness so that they can adapt their methods and implement lessons learned for future missions. While businesses can have their own planning process, it must be standardized so that other departments within the company and supporting assets outside the company can understand and use the same format and terminology.\n",
    "\n",
    "\n",
    "* A leader’s checklist for planning should include the following: \n",
    "\n",
    "    * Analyze the mission. —Understand higher headquarters’ mission, Commander’s Intent, and endstate (the goal). —Identify and state your own Commander’s Intent and endstate for the specific mission. \n",
    "    * Identify personnel, assets, resources, and time available. \n",
    "    * Decentralize the planning process. —Empower key leaders within the team to analyze possible courses of action. • Determine a specific course of action. —Lean toward selecting the simplest course of action. —Focus efforts on the best course of action. \n",
    "    * Empower key leaders to develop the plan for the selected course of action. \n",
    "    * Plan for likely contingencies through each phase of the operation. \n",
    "    * Mitigate risks that can be controlled as much as possible. \n",
    "    * Delegate portions of the plan and brief to key junior leaders. —Stand back and be the tactical genius. \n",
    "    * Continually check and question the plan against emerging information to ensure it still fits the situation. \n",
    "    * Brief the plan to all participants and supporting assets. —Emphasize Commander’s Intent. —Ask questions and engage in discussion and interaction with the team to ensure they understand. \n",
    "    * Conduct post-operational debrief after execution. —Analyze lessons learned and implement them in future planning."
   ]
  },
  {
   "cell_type": "markdown",
   "metadata": {},
   "source": [
    "#### 1.1.3.2 Leading Up and Down the Chain <a id=1.1.3.2_leading_up_and_down_the_chain></a> \n",
    "\n",
    "Many believe that leadership flows from the top down, however for high performance teams, it is important that every member of the team is able to lead up and down the chain, to communicate and address issues whether they come from their immediate superior or direct report. This is why leading up and down the chain is a Leadership Requirement. "
   ]
  },
  {
   "cell_type": "markdown",
   "metadata": {},
   "source": [
    "#### Leading Down the Chain\n",
    "\n",
    "\n",
    "* Any good leader is immersed in the planning and execution of tasks, projects, and operations to move te team toward a strategic goal. Such leaders possess insight into the bigger picture and why specific tasks need to be accomplished. This information does not automatically translate to subordinate leaders and the frontine workers. Therefore the leader must actively communicate this down the chain. \n",
    "\n",
    "\n",
    "* It is critical that both junior and senior leaders have an understanding of each other's role and it is paramount that senior leaders explain to their junior leaders and troops executing the mission how their role contributes to big picture success.\n",
    "\n",
    "\n",
    "* Leaders must routinely communicate with their team members to help them understand their role in the overall mission. Frontline leaders and tropps can then connect the dots between what they do every day - the day-to-day operations - and how that impacts the company's strategic goals. This understanding helps the team members prioritize their efforts in a rapidly changing, dynamic environment. That is leading down the chain of command.\n",
    "\n",
    "\n",
    "#### Leading Up the Chain\n",
    "\n",
    "\n",
    "* If your boss isn't making a decision in a timely maner or providing necessary support for you and your team, don't blame the boss. First, blame yourself. Examine what you can do to better convey the critical information for decisions to be made and support allocated.\n",
    "\n",
    "\n",
    "* Leading up the chain of command requires tactful engagement with the immediate boss to obtain the decisions and support necessary to enable your team to accomplish its mission and ultimately win. To do this, a leader must push situational awareness up the chain of command.\n",
    "\n",
    "\n",
    "* While pushing to make your superior understand what you need, you must also realize that your boss must allocate limited assets and make decisions with the bigger picture in mind. you and your team may not represet the prority effort at that particular time. Or perhaps senior leadership has chosen a different direction. Have the humility to undersatand and accept this.\n",
    "\n",
    "\n",
    "* *One of the most important jobs of any leader is to support your own boss -* your immediate leadership. In any chain of command, the leadership must always present a united front to the troops. A public display of discontent or disagreement with the chain of command undermines the authority of leaders at all levels. This is catastrophic to the performance of any organization.\n",
    "\n",
    "\n",
    "* Leaders in any chain of command will not always agree. But at the end of the day, once the debate on a particular course of action is over and the boss has made a decision - even if that decision is one you argued against - you must execute the plan *as if it were your own*.\n",
    "\n",
    "\n",
    "* If your leader is not giving the support you need, dn't blame him or her. Instead, re-examine what you can do to better clarify, educate, influence, or convince that person to give you what you need in order to win.\n",
    "\n",
    "\n",
    "* The major factors to be aware of when leading up and down the chain of command are these: \n",
    "    * Take responsibility for leading everyone in your world, subordinates and superiors alike. \n",
    "    * If someone isn’t doing what you want or need them to do, look in the mirror first and determine what you can do to better enable this. \n",
    "    * Don’t ask your leader what you should do, tell them what you are going to do."
   ]
  },
  {
   "cell_type": "markdown",
   "metadata": {},
   "source": [
    "#### 3.1.3.3 Decisiveness amid Uncertainty<a id=3.1.3.3_decisiveness_amid_uncertainty></a>\n",
    "\n",
    "An important Leadership Requirement is the ability to be decisive amid uncertainty. They need to have the courage to make decisions even if it does not lead to the optimal outcome. As part of this Leadership Requirement, senior leaders must also foster an environment of psycological safety and put in guardrails so their junior leaders can learn how to meet this requirement without incurring undue business risk."
   ]
  },
  {
   "cell_type": "markdown",
   "metadata": {},
   "source": [
    "* It is critical for leaders to act decisively amid uncertainty: to make the best decisions they can based on only the immediate information available. There is no 100% right solution. The picture is never complete. Leaders must be comfortable with this and be able to make decisions promtply, then be ready to adjust those decisions quickly based on evolving situations and new information.\n",
    "\n",
    "\n",
    "* Intelligence gathering and reasearch are important, but they must be employed with realistic expectations and must not impede swift decision making that is often the difference between success and failure.\n",
    "\n",
    "\n",
    "* Waiting for the 100 percent right and certain solution leads to delay, indecision, and inability to execute. Leaders must be prepared to make an educated guess based on previous experience, knowledge of how things operate, likely outcomes, and whatever intelligence is available in the immediate moment. Leaders should also consult fellow leaders and leverage any resource available to help them make the best decision possible.\n",
    "\n",
    "\n",
    "* Outcomes are never certain: success never guaranteed. Even so, business leaders must be comfortable in the chaos and act decisively amid such uncertainty."
   ]
  },
  {
   "cell_type": "markdown",
   "metadata": {},
   "source": [
    "#### 1.1.3.4 Discipline Equals Freedom - The Dichotomy of Leadership<a id=1.1.3.4_discipline_equals_freedom></a> \n",
    "\n",
    "Every leader must walk a fine line. That's what makes leadership so challenging. Just as discipline and freedom are opposing forces that must be balanced, leadership requires finding the equilibrium in the dichotomy of many seemingly contradictory qualities, between one extreme and another. The simple recognition of this is one of the most powerful tools a leader has. The requirement from leaders is that they continually find balance in the various dichotomies of leadership."
   ]
  },
  {
   "cell_type": "markdown",
   "metadata": {},
   "source": [
    "* A leader must lead but also be ready to follow. Sometimes, another member of theteam - perhaps a subordinate or direct report - might be in a better position to develop a plan, make a decision, or lead through a specific situation. Good leaders must welcome this, putting aside ego and personal agendas to ensure that the team has the greatest chance of accomplishing its strategic goals. \n",
    "\n",
    "\n",
    "* A true leader is not intimidated when others step up and take charge. leaders that lack confidence in themselves fear being outshined by someone else. If the team is successful, then recognition will come for those in charge, but a leader should not seek that recognition. A leader must be confident enough to follow someone else when the situation calls for it.\n",
    "\n",
    "\n",
    "* A leader must be aggressive but not overbearing. They must ensure that everyone below them in the chain of command felt comfortable approaching them with concerns, ideas, thoughts, and even disagreements. If they felt something was wrong or thought there was a better way to execute, leaders encourage their team, regarldess of rank, to come with questions and present an opposing view.\n",
    "\n",
    "\n",
    "* A leader must be calm but not robotic. It is normal - and necessary- to show emotion. The team must understand that their leader cares about them and their wellbeing. But, a leader must control his or her emotions. If not, how can they expect to control anything else? Leaders who lose their temper also lose respect. But, at the same time, to never show any sense of anger, sadness, or frustration would make that leader appear void of any emotion at all - a robot. People do not follow robots.\n",
    "\n",
    "\n",
    "* A leader must be confident but never cocky. Confidence is contagious, a great attribute for a leader and a team. But when it goes too far, overconfidence causes complacency and arrogance, which ultimately set the team up for failure.\n",
    "\n",
    "\n",
    "* A leader must be brave but not foolhardy. He or she must be willing to accept risk and act courageously, but must never be reckless. it is a leader's job to always mitigate as much as possible those risks that can be controlled to accomplish the mission without sacrificing the team or excessively expending critical resources.\n",
    "\n",
    "\n",
    "* Leaders must have a competitive spirit but also be gracious losers. They must drive competition and push themselves and their teams to perform at the highest level. But they must never put their own drive for personal success ahead of overall mission success for the greater team. Leaders must act with professionalism and recognize others for their contributions.\n",
    "\n",
    "\n",
    "* A leader must be attentive to details but not obsessed by them. A good leader does not get bogged down in the minutia of a tactical problem at the expense of strategic success. he or she must monitor and check the team's progress in the most critical tasks. But that leader cannot get sucked into the details and lose track of the bigger picture.\n",
    "\n",
    "\n",
    "* A leader must be strong but likewise have endurance, not only physically but mentally. he or she must maintain the ability to perform at the highest level and sustain that level for the long term. Leaders must recognize limitations and know to pace themselves and their teams so that they can maintain a solid performance indefinitely.\n",
    "\n",
    "\n",
    "* Leaders must be humble but not passive; quiet but not silent. They must possess humility and the ability to control their ego and listen to others. They must admit mistakes and failures, take ownership of them, and figure out a way to prevent them from happening again. But a leader must be able to speak up when it matters. THey must be able to stand up for the team and respectfully push back against a decision, order, or direction that could negatively impact overall mission success. \n",
    "\n",
    "\n",
    "* A leader must be close with subordinates but not too close. The best leaders understand the motivations of their team members and how. their people - their lives and their families. But a leader must never grow so close to subordinates that one member of theteam becomes more important than another, or more important than the mission itself. Leaders must never get so close that the team forgets who is in charge.\n",
    "\n",
    "\n",
    "* A leader must exercise Extreme Ownership and simultaneously employ Decentralized Command by giving control to subordinate leaders.\n",
    "\n",
    "\n",
    "* A leader has nothing to prove but everything to prove. A good leader does not gloat or revel in his or her position. A team understands that the leader is de facto in charge and in that respect, a leader has nothing to prove. But in another respect, a leader has everythingto prove: every member of the team must develop the trust and confidence that their leader will exercise good judgementm remain calm, and make the right decisions when it matters most. Leaders must earn that respect and prove themselves worthy, demonstrating through action thatthey will take care of the team and look out for their long-term interests and well-being. In that respect, a leader has everything to prove.\n",
    "\n",
    "\n",
    "* The Dichotomy of Leadership A good leader must be: \n",
    "\n",
    "    * confident but not cocky; • courageous but not foolhardy; \n",
    "    * competitive but a gracious loser; \n",
    "    * attentive to details but not obsessed by them; \n",
    "    * strong but have endurance; \n",
    "    * a leader and follower; \n",
    "    * humble not passive; \n",
    "    * aggressive not overbearing; \n",
    "    * quiet not silent; \n",
    "    * calm but not robotic, logical but not devoid of emotions; \n",
    "    * close with the troops but not so close that one becomes more important than another or more important than the good of the team; not so close that they forget who is in charge. \n",
    "    * able to execute Extreme Ownership, while exercising Decentralized Command. \n",
    "    * A good leader has nothing to prove, but everything to prove."
   ]
  },
  {
   "cell_type": "markdown",
   "metadata": {},
   "source": [
    "## 1.2 Blueprint for Building High Performance Teams<a id='1.2_blueprint'></a>"
   ]
  },
  {
   "cell_type": "markdown",
   "metadata": {},
   "source": [
    "### 1.2.1 It Starts With Leadership <a id='1.2.1_leadership'></a>"
   ]
  },
  {
   "cell_type": "markdown",
   "metadata": {},
   "source": [
    "* Leaders set the example for the rest of the team in terms of how to behave and what we look for in order to be promoted into a leadership positions. Naturally, team members take their cues from their leaders and emulate them and therefore it is our leaders that shape the culture of the team and organization.\n",
    "\n",
    "\n",
    "* Therefore the first step to building a high performance team starts with ensuring our leaders set the right example. How do we do that? Through the organization leading by example and setting the right expectations and standards for current and aspiring leaders of all levels:\n",
    "\n",
    "    1. Leaders must show that they embrace, embody and can teach the Leadership Principles outlined above. Only those that consistently demonstrate that they can adhere to all aspects of the Leadership Principles would be considered for leadership positions. By making this a requirement for progression within the team and organization we ensure that we build a high performance culture from the top down.\n",
    "    \n",
    "    2. Leaders must possess a growth mindset. They must set the example for the team by searching and pushing for continuous improvement and learning. They must challenge the team to improvise, adapt and overcome when the team encounters a challenge and must encourage the team to have an open mind. A leader must never accept the response \"We don't need to change as this is the way we have always done it\" and instead encourage the team to say \"If it isn't broken, break it and make it better.\"\n",
    "    \n",
    "    3. Leaders must create an environment of psycological safety where the team is free express their views, ideas, questions and concerns without fear of negative consequences.\n",
    "    \n",
    "    \n",
    "* To ensure that these standards are met, and the proper behaviours are encouraged across the team, they must be built into every team members performance appraisal. Leaders will be held to a higher standard but non leaders are expected to adhere to the Leadership principles as well. They are also expected to also have a growth mindset and help faciliate an environment of psycological safety.\n",
    "    "
   ]
  },
  {
   "cell_type": "markdown",
   "metadata": {},
   "source": [
    "### 1.2.2 Building the Team <a id='1.2.2_building_team'></a>\n",
    "\n",
    "As mentioned before, high performance teams start with leadership. This next section outlines the requirements needed to ensure that team members are being placed in the correct positions within a team and organization. What we want to absolutely avoid is placing unqualified individuals in people Leader positions. This is critical to creating and maintaining a high performance team."
   ]
  },
  {
   "cell_type": "markdown",
   "metadata": {},
   "source": [
    "* We discussed the qualities that an individual must possess to be promoted to a people management position. These qualities are non negotiable and individuals who do not meet this requirement should not be promoted. Leaders can work with individuals to develop these qualities, but until the individual can meet this requirement they cannot be put in charge of leading and managing people. The damange that people managers who do not meet the standard are wide reaching as their substandard example spreads across the organization. It is important to note that not anyone can be leader and when the requirements are clearly aritculated, not everyone may want to be a people leader.\n",
    "\n",
    "\n",
    "* For high performing individuals who do not want to be a leader or who do not meet the standard, we need to develop a different career path for them to ensure we retain talent. In some organizations, the only way an individual can earn more is to move into leadership positions. This cannot be the case, as there needs to be a non-people leader path for high performing talent to earn more. This is where a growth mindset comes in. For talent that has reached their ceiling, they should be encouraged to cross train and learn additional functions and skills to support the team. Cross training across all team members ensures business continuity and provides talented individuals an opportunity to learn and grow without the pressures that come with leadership. Individuals that cross trian and continue to develop and grow should be rewarded with promotions in line with their skillset but should not be placed in people leader positions.\n",
    "\n",
    "\n",
    "* On the topic of business continuity, for all members of the team including leaders, a requirement for promotion must be that they can train another team member on how to do all functions of their position. Only when a team member can fully step away from their current role can they be promoted to the next. This ensures that knowledge required to perform a function is fully passed to the next individual and it demonstrates that the individual who is up for promotion can train other team members. This requirement includes leaders as well. Only when the Leader can fully step away and their team can still continues to function without any problems, can they be promoted or moved to other positions. **A Leader's criteria for further promotion is to be able to render themselves obsolete through team training and development.**"
   ]
  },
  {
   "cell_type": "markdown",
   "metadata": {},
   "source": [
    "### 1.2.3 The ROI of a High Performance Culture <a id='1.2.3_benefits_culture'></a>"
   ]
  },
  {
   "cell_type": "markdown",
   "metadata": {},
   "source": [
    "* Attracting, Developing and Retaining talent is important for all organizations, especially now when companies are fighting to fill positions and competition for talent is fierce. We have discussed how our Leaders are expected to behave to set the example for junior members to help their development. We have also talked about how performance standards and  promotion process encourages a growth mindset, create opportunities for development through cross training. In my experience, when successfully implemented and executed, this blueprint for creating high performance teams acts as a magnet for attracting talent. We can speak with candidates with transparency on what is required to be promoted and become leaders within the organization, we can talk about how our teams encourage growth and provide psycological safety. We can show that our Leaders are vested in their development and growth and it is part of their job to ensure that this happens. This is a very powerful value proposition to attract talent.\n",
    "\n",
    "\n",
    "* When we successfully execute the Blueprint and have Leaders and junior members embodying the Leadership Principles, encouraging a growth mindset and thriving in a environment of psycological safety, we create a work environment that is very difficult to leave. The same way it serves as a magnet to attract new talent, it serves as a magnet to keep talent. As individuals who leave often will often return, preferring the High Performance Culture they experienced before."
   ]
  },
  {
   "cell_type": "markdown",
   "metadata": {},
   "source": [
    "### 1.2.4 Let's Talk <a id='1.2.4_lets_talk'></a>"
   ]
  },
  {
   "cell_type": "markdown",
   "metadata": {},
   "source": [
    "I have provided a breif glimpse into my process for creating high performance teams. This is a very complex challenge and what we have discussed is only the beginning. If you would like to dig deeper into this topic and have a discussion to share ideas, please feel free to reach out to me at Lamhdavid@gmail.com"
   ]
  }
 ],
 "metadata": {
  "kernelspec": {
   "display_name": "Python 3",
   "language": "python",
   "name": "python3"
  },
  "language_info": {
   "codemirror_mode": {
    "name": "ipython",
    "version": 3
   },
   "file_extension": ".py",
   "mimetype": "text/x-python",
   "name": "python",
   "nbconvert_exporter": "python",
   "pygments_lexer": "ipython3",
   "version": "3.7.6"
  }
 },
 "nbformat": 4,
 "nbformat_minor": 4
}
